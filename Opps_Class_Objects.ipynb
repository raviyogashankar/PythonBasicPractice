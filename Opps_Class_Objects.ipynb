{
 "cells": [
  {
   "cell_type": "markdown",
   "id": "eada5d6f",
   "metadata": {},
   "source": [
    "## Oops !!"
   ]
  },
  {
   "cell_type": "code",
   "execution_count": 1,
   "id": "028737cb",
   "metadata": {},
   "outputs": [],
   "source": [
    "class bike:\n",
    "    pass"
   ]
  },
  {
   "cell_type": "code",
   "execution_count": 2,
   "id": "59aa1253",
   "metadata": {},
   "outputs": [],
   "source": [
    "honda = bike()"
   ]
  },
  {
   "cell_type": "code",
   "execution_count": 3,
   "id": "d7dafef8",
   "metadata": {},
   "outputs": [
    {
     "data": {
      "text/plain": [
       "<__main__.bike at 0x21fe15ff130>"
      ]
     },
     "execution_count": 3,
     "metadata": {},
     "output_type": "execute_result"
    }
   ],
   "source": [
    "honda"
   ]
  },
  {
   "cell_type": "code",
   "execution_count": 4,
   "id": "355d129a",
   "metadata": {},
   "outputs": [],
   "source": [
    "honda.name = \"Splender\" \n",
    "honda.model = \"Plus\" \n",
    "honda.year = 2020\n",
    "honda.milage = 56"
   ]
  },
  {
   "cell_type": "code",
   "execution_count": 5,
   "id": "9468450d",
   "metadata": {},
   "outputs": [
    {
     "data": {
      "text/plain": [
       "'Splender'"
      ]
     },
     "execution_count": 5,
     "metadata": {},
     "output_type": "execute_result"
    }
   ],
   "source": [
    "honda.name"
   ]
  },
  {
   "cell_type": "code",
   "execution_count": 6,
   "id": "21b278e7",
   "metadata": {},
   "outputs": [
    {
     "data": {
      "text/plain": [
       "'Plus'"
      ]
     },
     "execution_count": 6,
     "metadata": {},
     "output_type": "execute_result"
    }
   ],
   "source": [
    "honda.model"
   ]
  },
  {
   "cell_type": "code",
   "execution_count": 7,
   "id": "7969fa3b",
   "metadata": {},
   "outputs": [
    {
     "data": {
      "text/plain": [
       "2020"
      ]
     },
     "execution_count": 7,
     "metadata": {},
     "output_type": "execute_result"
    }
   ],
   "source": [
    "honda.year"
   ]
  },
  {
   "cell_type": "code",
   "execution_count": 8,
   "id": "16f4c3a0",
   "metadata": {},
   "outputs": [
    {
     "data": {
      "text/plain": [
       "56"
      ]
     },
     "execution_count": 8,
     "metadata": {},
     "output_type": "execute_result"
    }
   ],
   "source": [
    "honda.milage"
   ]
  },
  {
   "cell_type": "code",
   "execution_count": 88,
   "id": "c112e4cb",
   "metadata": {},
   "outputs": [],
   "source": [
    "class car :\n",
    "    def __init_(self,name,model,year,milage):\n",
    "        self.name = name \n",
    "        self.model = model \n",
    "        self.year = year\n",
    "        self.milage = milage\n",
    "        \n",
    "    def age(self,current_year):\n",
    "        return current_year - self.year\n",
    "    \n",
    "    def milage_one(self):\n",
    "        return \"his is the milage\" + str(self.milage)\n",
    "    \n",
    "    def __str__(c):\n",
    "        return \"This is In-built Method \""
   ]
  },
  {
   "cell_type": "code",
   "execution_count": 89,
   "id": "5cae7d9d",
   "metadata": {},
   "outputs": [],
   "source": [
    "obj = car()"
   ]
  },
  {
   "cell_type": "code",
   "execution_count": 90,
   "id": "97191b5e",
   "metadata": {},
   "outputs": [
    {
     "data": {
      "text/plain": [
       "<__main__.car at 0x21fe2b50fa0>"
      ]
     },
     "execution_count": 90,
     "metadata": {},
     "output_type": "execute_result"
    }
   ],
   "source": [
    "obj"
   ]
  },
  {
   "cell_type": "code",
   "execution_count": 91,
   "id": "6221d805",
   "metadata": {},
   "outputs": [],
   "source": [
    "obj._car__init_(\"Ravi\",\"xzen\",2020,25)"
   ]
  },
  {
   "cell_type": "code",
   "execution_count": 92,
   "id": "9ef0e383",
   "metadata": {},
   "outputs": [
    {
     "data": {
      "text/plain": [
       "'Ravi'"
      ]
     },
     "execution_count": 92,
     "metadata": {},
     "output_type": "execute_result"
    }
   ],
   "source": [
    "obj.name"
   ]
  },
  {
   "cell_type": "code",
   "execution_count": 93,
   "id": "dd10222f",
   "metadata": {},
   "outputs": [
    {
     "data": {
      "text/plain": [
       "'xzen'"
      ]
     },
     "execution_count": 93,
     "metadata": {},
     "output_type": "execute_result"
    }
   ],
   "source": [
    "obj.model"
   ]
  },
  {
   "cell_type": "code",
   "execution_count": 94,
   "id": "92758b2e",
   "metadata": {},
   "outputs": [
    {
     "data": {
      "text/plain": [
       "2020"
      ]
     },
     "execution_count": 94,
     "metadata": {},
     "output_type": "execute_result"
    }
   ],
   "source": [
    "obj.year"
   ]
  },
  {
   "cell_type": "code",
   "execution_count": 95,
   "id": "0c7eb991",
   "metadata": {},
   "outputs": [
    {
     "data": {
      "text/plain": [
       "25"
      ]
     },
     "execution_count": 95,
     "metadata": {},
     "output_type": "execute_result"
    }
   ],
   "source": [
    "obj.milage"
   ]
  },
  {
   "cell_type": "code",
   "execution_count": 96,
   "id": "250c489d",
   "metadata": {},
   "outputs": [
    {
     "data": {
      "text/plain": [
       "2"
      ]
     },
     "execution_count": 96,
     "metadata": {},
     "output_type": "execute_result"
    }
   ],
   "source": [
    "obj.age(2022)"
   ]
  },
  {
   "cell_type": "code",
   "execution_count": 97,
   "id": "031438f7",
   "metadata": {},
   "outputs": [
    {
     "data": {
      "text/plain": [
       "'his is the milage25'"
      ]
     },
     "execution_count": 97,
     "metadata": {},
     "output_type": "execute_result"
    }
   ],
   "source": [
    "obj.milage_one()"
   ]
  },
  {
   "cell_type": "code",
   "execution_count": 87,
   "id": "bae8a601",
   "metadata": {},
   "outputs": [
    {
     "name": "stdout",
     "output_type": "stream",
     "text": [
      "This is inbuilt Method \n"
     ]
    }
   ],
   "source": [
    "print(obj)"
   ]
  },
  {
   "cell_type": "code",
   "execution_count": 100,
   "id": "db26d1bc",
   "metadata": {},
   "outputs": [],
   "source": [
    "class student():\n",
    "    def __init__(self, name, rollno, joiningdate, currenttopic):\n",
    "        self. name = name \n",
    "        self.rollno = rollno\n",
    "        self.joiningdate = joiningdate\n",
    "        self.currenttopic = currenttopic\n",
    "        \n",
    "    def crttopic(self):\n",
    "        print(\"Current topic is \",self.crttopic)\n",
    "        \n",
    "    def std_rollno(self):\n",
    "        \n",
    "        if type(self.rollno) == str:\n",
    "            print(\"Do nothing\")\n",
    "        else:\n",
    "            return str( self.rollno)\n",
    "        \n",
    "    def __str__(self):\n",
    "        return \"This is a STR function\"\n",
    "        "
   ]
  },
  {
   "cell_type": "code",
   "execution_count": 110,
   "id": "f681b9b5",
   "metadata": {},
   "outputs": [],
   "source": [
    "ravi = student(\"Ravi\", \"1245\", 15-5-2021,\"Oops\" )"
   ]
  },
  {
   "cell_type": "code",
   "execution_count": 111,
   "id": "11eb6949",
   "metadata": {},
   "outputs": [
    {
     "name": "stdout",
     "output_type": "stream",
     "text": [
      "Do nothing\n"
     ]
    }
   ],
   "source": [
    "ravi.std_rollno()"
   ]
  },
  {
   "cell_type": "code",
   "execution_count": 112,
   "id": "2446b5df",
   "metadata": {},
   "outputs": [
    {
     "name": "stdout",
     "output_type": "stream",
     "text": [
      "This is a STR function\n"
     ]
    }
   ],
   "source": [
    "print(student(\"Ravi\", 1245, 15-5-2021,\"Oops\"))"
   ]
  },
  {
   "cell_type": "code",
   "execution_count": 113,
   "id": "a13c91c3",
   "metadata": {},
   "outputs": [
    {
     "name": "stdout",
     "output_type": "stream",
     "text": [
      "This is a STR function\n"
     ]
    }
   ],
   "source": [
    "print(ravi)"
   ]
  },
  {
   "cell_type": "code",
   "execution_count": 114,
   "id": "d4821f93",
   "metadata": {},
   "outputs": [],
   "source": [
    "jaya = student([\"Ravi\",\"Shankar\",\"Mokshith\"],1456,16-6-2021,\"Objects\")"
   ]
  },
  {
   "cell_type": "code",
   "execution_count": 115,
   "id": "17c0724b",
   "metadata": {},
   "outputs": [
    {
     "data": {
      "text/plain": [
       "'1456'"
      ]
     },
     "execution_count": 115,
     "metadata": {},
     "output_type": "execute_result"
    }
   ],
   "source": [
    "jaya.std_rollno()"
   ]
  },
  {
   "cell_type": "code",
   "execution_count": 116,
   "id": "d7e9f605",
   "metadata": {},
   "outputs": [
    {
     "data": {
      "text/plain": [
       "['Ravi', 'Shankar', 'Mokshith']"
      ]
     },
     "execution_count": 116,
     "metadata": {},
     "output_type": "execute_result"
    }
   ],
   "source": [
    "jaya.name"
   ]
  },
  {
   "cell_type": "code",
   "execution_count": null,
   "id": "d7e061c2",
   "metadata": {},
   "outputs": [],
   "source": []
  },
  {
   "cell_type": "code",
   "execution_count": null,
   "id": "307616fa",
   "metadata": {},
   "outputs": [],
   "source": []
  },
  {
   "cell_type": "code",
   "execution_count": null,
   "id": "a2332602",
   "metadata": {},
   "outputs": [],
   "source": []
  },
  {
   "cell_type": "code",
   "execution_count": null,
   "id": "10491bf4",
   "metadata": {},
   "outputs": [],
   "source": []
  },
  {
   "cell_type": "code",
   "execution_count": null,
   "id": "bf4535a4",
   "metadata": {},
   "outputs": [],
   "source": []
  }
 ],
 "metadata": {
  "kernelspec": {
   "display_name": "Python 3",
   "language": "python",
   "name": "python3"
  },
  "language_info": {
   "codemirror_mode": {
    "name": "ipython",
    "version": 3
   },
   "file_extension": ".py",
   "mimetype": "text/x-python",
   "name": "python",
   "nbconvert_exporter": "python",
   "pygments_lexer": "ipython3",
   "version": "3.8.8"
  }
 },
 "nbformat": 4,
 "nbformat_minor": 5
}
