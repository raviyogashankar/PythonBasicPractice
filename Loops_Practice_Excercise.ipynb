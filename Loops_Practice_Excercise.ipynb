{
 "cells": [
  {
   "cell_type": "markdown",
   "id": "651cc564",
   "metadata": {},
   "source": [
    "### Exercise 1: Reverse a list in Python\n"
   ]
  },
  {
   "cell_type": "code",
   "execution_count": 2,
   "id": "b460a26f",
   "metadata": {},
   "outputs": [
    {
     "data": {
      "text/plain": [
       "[500, 400, 300, 200, 100]"
      ]
     },
     "execution_count": 2,
     "metadata": {},
     "output_type": "execute_result"
    }
   ],
   "source": [
    "list1 = [100, 200, 300, 400, 500]\n",
    "list1[::-1]"
   ]
  },
  {
   "cell_type": "code",
   "execution_count": 16,
   "id": "6e4419db",
   "metadata": {},
   "outputs": [
    {
     "name": "stdout",
     "output_type": "stream",
     "text": [
      "5\n"
     ]
    }
   ],
   "source": [
    "print(len(list1))"
   ]
  },
  {
   "cell_type": "code",
   "execution_count": 24,
   "id": "cbe941b1",
   "metadata": {},
   "outputs": [
    {
     "data": {
      "text/plain": [
       "[500, 400, 300, 200, 100]"
      ]
     },
     "execution_count": 24,
     "metadata": {},
     "output_type": "execute_result"
    }
   ],
   "source": [
    "lst =[]\n",
    "for i in range(len(list1)-1,-1,-1):\n",
    "    lst.append(list1[i])\n",
    "lst"
   ]
  },
  {
   "cell_type": "markdown",
   "id": "1b3c8edf",
   "metadata": {},
   "source": [
    "### Exercise 2: Concatenate two lists index-wise\n"
   ]
  },
  {
   "cell_type": "code",
   "execution_count": 25,
   "id": "05135471",
   "metadata": {},
   "outputs": [],
   "source": [
    "list1 = [\"M\", \"na\", \"i\", \"Ke\"]\n",
    "list2 = [\"y\", \"me\", \"s\", \"lly\"]"
   ]
  },
  {
   "cell_type": "code",
   "execution_count": 41,
   "id": "78cf67f9",
   "metadata": {},
   "outputs": [
    {
     "name": "stdout",
     "output_type": "stream",
     "text": [
      "My name is Kelly\n"
     ]
    }
   ],
   "source": [
    "print(list1[0] + list2[0], list1[1] + list2[1], list1[2] + list2[2], list1[3] + list2[3])"
   ]
  },
  {
   "cell_type": "code",
   "execution_count": 39,
   "id": "33a3b205",
   "metadata": {},
   "outputs": [
    {
     "data": {
      "text/plain": [
       "['My', 'name', 'is', 'Kelly']"
      ]
     },
     "execution_count": 39,
     "metadata": {},
     "output_type": "execute_result"
    }
   ],
   "source": [
    "new = []\n",
    "for i,j in zip(list1,list2):\n",
    "    new.append((i+j))\n",
    "new    "
   ]
  },
  {
   "cell_type": "markdown",
   "id": "25751247",
   "metadata": {},
   "source": [
    "### Exercise 3: Turn every item of a list into its square\n"
   ]
  },
  {
   "cell_type": "code",
   "execution_count": 42,
   "id": "280b0d09",
   "metadata": {},
   "outputs": [
    {
     "data": {
      "text/plain": [
       "[4, 9, 16, 25, 36]"
      ]
     },
     "execution_count": 42,
     "metadata": {},
     "output_type": "execute_result"
    }
   ],
   "source": [
    "list1 = [2,3,4,5,6]\n",
    "sqr_lst = []\n",
    "for i in list1:\n",
    "    sqr_lst.append(i**2)\n",
    "sqr_lst"
   ]
  },
  {
   "cell_type": "code",
   "execution_count": 44,
   "id": "6ffc00e9",
   "metadata": {},
   "outputs": [
    {
     "data": {
      "text/plain": [
       "[4, 9, 16, 25, 36]"
      ]
     },
     "execution_count": 44,
     "metadata": {},
     "output_type": "execute_result"
    }
   ],
   "source": [
    "lst_sqr_lst = [i**2 for i in list1]\n",
    "lst_sqr_lst"
   ]
  },
  {
   "cell_type": "markdown",
   "id": "27036638",
   "metadata": {},
   "source": [
    "### Exercise 4: Concatenate two lists in the following order\n"
   ]
  },
  {
   "cell_type": "code",
   "execution_count": 55,
   "id": "17a5c9e9",
   "metadata": {},
   "outputs": [
    {
     "data": {
      "text/plain": [
       "['Hello Dear', 'Hello Sir', 'take Dear', 'take Sir']"
      ]
     },
     "execution_count": 55,
     "metadata": {},
     "output_type": "execute_result"
    }
   ],
   "source": [
    "list1 = [\"Hello \", \"take \"]\n",
    "list2 = [\"Dear\", \"Sir\"]\n",
    "output_lst=[]\n",
    "for i in list1:\n",
    "    for j in list2:\n",
    "        output_lst.append(i+j)\n",
    "output_lst"
   ]
  },
  {
   "cell_type": "markdown",
   "id": "b34a22d4",
   "metadata": {},
   "source": [
    "### Exercise 5: Iterate both lists simultaneously\n"
   ]
  },
  {
   "cell_type": "code",
   "execution_count": 56,
   "id": "f8c92f15",
   "metadata": {},
   "outputs": [],
   "source": [
    "list1 = [10, 20, 30, 40]\n",
    "list2 = [100, 200, 300, 400]\n"
   ]
  },
  {
   "cell_type": "code",
   "execution_count": 59,
   "id": "b7c2e3fb",
   "metadata": {},
   "outputs": [
    {
     "name": "stdout",
     "output_type": "stream",
     "text": [
      "10 400\n",
      "20 300\n",
      "30 200\n",
      "40 100\n"
     ]
    }
   ],
   "source": [
    "for i,j in zip(list1,list2[::-1]):\n",
    "    print(i,j)"
   ]
  },
  {
   "cell_type": "markdown",
   "id": "bdb7e4a5",
   "metadata": {},
   "source": [
    "### Exercise 6: Remove empty strings from the list of strings\n"
   ]
  },
  {
   "cell_type": "code",
   "execution_count": 63,
   "id": "065517b0",
   "metadata": {},
   "outputs": [
    {
     "data": {
      "text/plain": [
       "['Mike', 'Emma', 'Kelly', 'Brad']"
      ]
     },
     "execution_count": 63,
     "metadata": {},
     "output_type": "execute_result"
    }
   ],
   "source": [
    "list1 = [\"Mike\", \"\", \"Emma\", \"Kelly\", \"\", \"Brad\"]\n",
    "for i in list1:\n",
    "    if i == \"\":\n",
    "        list1.remove(\"\")\n",
    "list1"
   ]
  },
  {
   "cell_type": "markdown",
   "id": "b88cd19b",
   "metadata": {},
   "source": [
    "### Exercise 7: Add new item to list after a specified item\n"
   ]
  },
  {
   "cell_type": "code",
   "execution_count": 67,
   "id": "ef36bd41",
   "metadata": {},
   "outputs": [],
   "source": [
    "list1 = [10, 20, [300, 400, [5000, 6000], 500], 30, 40]\n",
    "list1.insert(3,\"Inserted\")\n"
   ]
  },
  {
   "cell_type": "code",
   "execution_count": 69,
   "id": "0f947787",
   "metadata": {},
   "outputs": [
    {
     "data": {
      "text/plain": [
       "[10, 20, [300, 400, [5000, 6000], 500], 'Inserted', 30, 40, 'Test', 'Test']"
      ]
     },
     "execution_count": 69,
     "metadata": {},
     "output_type": "execute_result"
    }
   ],
   "source": [
    "for i in list1:\n",
    "    if type(i)==list:\n",
    "        list1.append(\"Test\")\n",
    "list1       "
   ]
  },
  {
   "cell_type": "markdown",
   "id": "f54c066f",
   "metadata": {},
   "source": [
    "### Exercise 8: Extend nested list by adding the sublist\n"
   ]
  },
  {
   "cell_type": "code",
   "execution_count": 71,
   "id": "bda14cbb",
   "metadata": {},
   "outputs": [
    {
     "data": {
      "text/plain": [
       "['c', ['d', 'e', ['f', 'g'], 'k'], 'l']"
      ]
     },
     "execution_count": 71,
     "metadata": {},
     "output_type": "execute_result"
    }
   ],
   "source": [
    "list1 = [\"a\", \"b\", [\"c\", [\"d\", \"e\", [\"f\", \"g\"], \"k\"], \"l\"], \"m\", \"n\"]\n",
    "sub_list = [\"h\", \"i\", \"j\"]\n",
    "list1[2]"
   ]
  },
  {
   "cell_type": "code",
   "execution_count": 84,
   "id": "c02274c2",
   "metadata": {},
   "outputs": [],
   "source": [
    "list1[2][1][2].extend(sub_list)"
   ]
  },
  {
   "cell_type": "code",
   "execution_count": 81,
   "id": "8480bc99",
   "metadata": {},
   "outputs": [
    {
     "data": {
      "text/plain": [
       "['a', 'b', ['c', ['d', 'e', ['f', 'g', ['h', 'i', 'j']], 'k'], 'l'], 'm', 'n']"
      ]
     },
     "execution_count": 81,
     "metadata": {},
     "output_type": "execute_result"
    }
   ],
   "source": [
    "list1"
   ]
  },
  {
   "cell_type": "code",
   "execution_count": 99,
   "id": "3750f35a",
   "metadata": {},
   "outputs": [
    {
     "name": "stdout",
     "output_type": "stream",
     "text": [
      "[5, 10, 15, 200, 25, 50, 20]\n"
     ]
    }
   ],
   "source": [
    "list1 = [5, 10, 15, 20, 25, 50, 20]\n",
    "\n",
    "index = list1.index(20)\n",
    "\n",
    "\n",
    "list1[index] = 200\n",
    "print(list1)"
   ]
  },
  {
   "cell_type": "markdown",
   "id": "a5731462",
   "metadata": {},
   "source": [
    "### Exercise 10: Remove all occurrences of a specific item from a list.\n"
   ]
  },
  {
   "cell_type": "code",
   "execution_count": 100,
   "id": "15e4c417",
   "metadata": {},
   "outputs": [
    {
     "data": {
      "text/plain": [
       "[5, 15, 25, 50]"
      ]
     },
     "execution_count": 100,
     "metadata": {},
     "output_type": "execute_result"
    }
   ],
   "source": [
    "list1 = [5, 20, 15, 20, 25, 50, 20]\n",
    "for i in list1:\n",
    "    if i == 20:\n",
    "        list1.remove(i)\n",
    "list1"
   ]
  },
  {
   "cell_type": "code",
   "execution_count": 101,
   "id": "d0f86b1c",
   "metadata": {},
   "outputs": [],
   "source": [
    "def remove_number(sample_list,val):\n",
    "    for i in sample_list:\n",
    "        if i == val:\n",
    "            sample_list.remove(i)\n",
    "    return sample_list"
   ]
  },
  {
   "cell_type": "code",
   "execution_count": 102,
   "id": "ddbe2746",
   "metadata": {},
   "outputs": [
    {
     "data": {
      "text/plain": [
       "[2, 30, 40, 1, 3]"
      ]
     },
     "execution_count": 102,
     "metadata": {},
     "output_type": "execute_result"
    }
   ],
   "source": [
    "remove_number([2,20,30,40,20,1,3],20)"
   ]
  },
  {
   "cell_type": "code",
   "execution_count": null,
   "id": "6e6aa255",
   "metadata": {},
   "outputs": [],
   "source": []
  }
 ],
 "metadata": {
  "kernelspec": {
   "display_name": "Python 3",
   "language": "python",
   "name": "python3"
  },
  "language_info": {
   "codemirror_mode": {
    "name": "ipython",
    "version": 3
   },
   "file_extension": ".py",
   "mimetype": "text/x-python",
   "name": "python",
   "nbconvert_exporter": "python",
   "pygments_lexer": "ipython3",
   "version": "3.8.8"
  }
 },
 "nbformat": 4,
 "nbformat_minor": 5
}
