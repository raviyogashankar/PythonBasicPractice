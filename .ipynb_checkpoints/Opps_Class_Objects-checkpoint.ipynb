{
 "cells": [
  {
   "cell_type": "markdown",
   "id": "eada5d6f",
   "metadata": {},
   "source": [
    "## Oops !!"
   ]
  },
  {
   "cell_type": "code",
   "execution_count": 1,
   "id": "028737cb",
   "metadata": {},
   "outputs": [],
   "source": [
    "class bike:\n",
    "    pass"
   ]
  },
  {
   "cell_type": "code",
   "execution_count": 2,
   "id": "59aa1253",
   "metadata": {},
   "outputs": [],
   "source": [
    "honda = bike()"
   ]
  },
  {
   "cell_type": "code",
   "execution_count": 3,
   "id": "d7dafef8",
   "metadata": {},
   "outputs": [
    {
     "data": {
      "text/plain": [
       "<__main__.bike at 0x279dd48ddf0>"
      ]
     },
     "execution_count": 3,
     "metadata": {},
     "output_type": "execute_result"
    }
   ],
   "source": [
    "honda"
   ]
  },
  {
   "cell_type": "code",
   "execution_count": 4,
   "id": "355d129a",
   "metadata": {},
   "outputs": [],
   "source": [
    "honda.name = \"Splender\" \n",
    "honda.model = \"Plus\" \n",
    "honda.year = 2020\n",
    "honda.milage = 56"
   ]
  },
  {
   "cell_type": "code",
   "execution_count": 5,
   "id": "9468450d",
   "metadata": {},
   "outputs": [
    {
     "data": {
      "text/plain": [
       "'Splender'"
      ]
     },
     "execution_count": 5,
     "metadata": {},
     "output_type": "execute_result"
    }
   ],
   "source": [
    "honda.name"
   ]
  },
  {
   "cell_type": "code",
   "execution_count": 6,
   "id": "21b278e7",
   "metadata": {},
   "outputs": [
    {
     "data": {
      "text/plain": [
       "'Plus'"
      ]
     },
     "execution_count": 6,
     "metadata": {},
     "output_type": "execute_result"
    }
   ],
   "source": [
    "honda.model"
   ]
  },
  {
   "cell_type": "code",
   "execution_count": 7,
   "id": "7969fa3b",
   "metadata": {},
   "outputs": [
    {
     "data": {
      "text/plain": [
       "2020"
      ]
     },
     "execution_count": 7,
     "metadata": {},
     "output_type": "execute_result"
    }
   ],
   "source": [
    "honda.year"
   ]
  },
  {
   "cell_type": "code",
   "execution_count": 8,
   "id": "16f4c3a0",
   "metadata": {},
   "outputs": [
    {
     "data": {
      "text/plain": [
       "56"
      ]
     },
     "execution_count": 8,
     "metadata": {},
     "output_type": "execute_result"
    }
   ],
   "source": [
    "honda.milage"
   ]
  },
  {
   "cell_type": "code",
   "execution_count": 9,
   "id": "c112e4cb",
   "metadata": {},
   "outputs": [],
   "source": [
    "class car :\n",
    "    def __init_(self,name,model,year,milage):\n",
    "        self.name = name \n",
    "        self.model = model \n",
    "        self.year = year\n",
    "        self.milage = milage\n",
    "        \n",
    "    def age(self,current_year):\n",
    "        return current_year - self.year\n",
    "    \n",
    "    def milage_one(self):\n",
    "        return \"his is the milage\" + str(self.milage)\n",
    "    \n",
    "    def __str__(c):\n",
    "        return \"This is In-built Method \""
   ]
  },
  {
   "cell_type": "code",
   "execution_count": 10,
   "id": "5cae7d9d",
   "metadata": {},
   "outputs": [],
   "source": [
    "obj = car()"
   ]
  },
  {
   "cell_type": "code",
   "execution_count": 11,
   "id": "97191b5e",
   "metadata": {},
   "outputs": [
    {
     "data": {
      "text/plain": [
       "<__main__.car at 0x279dd4f4160>"
      ]
     },
     "execution_count": 11,
     "metadata": {},
     "output_type": "execute_result"
    }
   ],
   "source": [
    "obj"
   ]
  },
  {
   "cell_type": "code",
   "execution_count": 12,
   "id": "6221d805",
   "metadata": {},
   "outputs": [],
   "source": [
    "obj._car__init_(\"Ravi\",\"xzen\",2020,25)"
   ]
  },
  {
   "cell_type": "code",
   "execution_count": 13,
   "id": "9ef0e383",
   "metadata": {},
   "outputs": [
    {
     "data": {
      "text/plain": [
       "'Ravi'"
      ]
     },
     "execution_count": 13,
     "metadata": {},
     "output_type": "execute_result"
    }
   ],
   "source": [
    "obj.name"
   ]
  },
  {
   "cell_type": "code",
   "execution_count": 14,
   "id": "dd10222f",
   "metadata": {},
   "outputs": [
    {
     "data": {
      "text/plain": [
       "'xzen'"
      ]
     },
     "execution_count": 14,
     "metadata": {},
     "output_type": "execute_result"
    }
   ],
   "source": [
    "obj.model"
   ]
  },
  {
   "cell_type": "code",
   "execution_count": 15,
   "id": "92758b2e",
   "metadata": {},
   "outputs": [
    {
     "data": {
      "text/plain": [
       "2020"
      ]
     },
     "execution_count": 15,
     "metadata": {},
     "output_type": "execute_result"
    }
   ],
   "source": [
    "obj.year"
   ]
  },
  {
   "cell_type": "code",
   "execution_count": 16,
   "id": "0c7eb991",
   "metadata": {},
   "outputs": [
    {
     "data": {
      "text/plain": [
       "25"
      ]
     },
     "execution_count": 16,
     "metadata": {},
     "output_type": "execute_result"
    }
   ],
   "source": [
    "obj.milage"
   ]
  },
  {
   "cell_type": "code",
   "execution_count": 17,
   "id": "250c489d",
   "metadata": {},
   "outputs": [
    {
     "data": {
      "text/plain": [
       "2"
      ]
     },
     "execution_count": 17,
     "metadata": {},
     "output_type": "execute_result"
    }
   ],
   "source": [
    "obj.age(2022)"
   ]
  },
  {
   "cell_type": "code",
   "execution_count": 18,
   "id": "031438f7",
   "metadata": {},
   "outputs": [
    {
     "data": {
      "text/plain": [
       "'his is the milage25'"
      ]
     },
     "execution_count": 18,
     "metadata": {},
     "output_type": "execute_result"
    }
   ],
   "source": [
    "obj.milage_one()"
   ]
  },
  {
   "cell_type": "code",
   "execution_count": 19,
   "id": "bae8a601",
   "metadata": {},
   "outputs": [
    {
     "name": "stdout",
     "output_type": "stream",
     "text": [
      "This is In-built Method \n"
     ]
    }
   ],
   "source": [
    "print(obj)"
   ]
  },
  {
   "cell_type": "code",
   "execution_count": 20,
   "id": "db26d1bc",
   "metadata": {},
   "outputs": [],
   "source": [
    "class student():\n",
    "    def __init__(self, name, rollno, joiningdate, currenttopic):\n",
    "        self.name = name \n",
    "        self.rollno = rollno\n",
    "        self.joiningdate = joiningdate\n",
    "        self.currenttopic = currenttopic\n",
    "        \n",
    "    def name_parsing(self):\n",
    "        if type(self.name) == list:\n",
    "            for i in self.name:\n",
    "                print(\"Name of the student is \", i)\n",
    "        else:\n",
    "            print(\"Provided name is not in the list\")\n",
    "        \n",
    "    def crttopic(self):\n",
    "        print(\"Current topic is \",self.currenttopic)\n",
    "        \n",
    "    def std_rollno(self):\n",
    "        try:\n",
    "            if type(self.rollno) == int:\n",
    "                print(\"Do nothing\")\n",
    "            else:\n",
    "                return str( self.rollno)\n",
    "        except Excption as e:\n",
    "            print(\"This is the exception that is received\",e)\n",
    "            \n",
    "    def __str__(self):\n",
    "        return \"This is a STR function\"\n",
    "        "
   ]
  },
  {
   "cell_type": "code",
   "execution_count": 21,
   "id": "f681b9b5",
   "metadata": {},
   "outputs": [],
   "source": [
    "ravi = student(\"Ravi\", \"1245\", 15-5-2021,\"Oops\" )"
   ]
  },
  {
   "cell_type": "code",
   "execution_count": 22,
   "id": "11eb6949",
   "metadata": {},
   "outputs": [
    {
     "data": {
      "text/plain": [
       "'1245'"
      ]
     },
     "execution_count": 22,
     "metadata": {},
     "output_type": "execute_result"
    }
   ],
   "source": [
    "ravi.std_rollno()"
   ]
  },
  {
   "cell_type": "code",
   "execution_count": 23,
   "id": "2446b5df",
   "metadata": {},
   "outputs": [
    {
     "name": "stdout",
     "output_type": "stream",
     "text": [
      "This is a STR function\n"
     ]
    }
   ],
   "source": [
    "print(student(\"Ravi\", 1245, 15-5-2021,\"Oops\"))"
   ]
  },
  {
   "cell_type": "code",
   "execution_count": 24,
   "id": "a13c91c3",
   "metadata": {},
   "outputs": [
    {
     "name": "stdout",
     "output_type": "stream",
     "text": [
      "This is a STR function\n"
     ]
    }
   ],
   "source": [
    "print(ravi)"
   ]
  },
  {
   "cell_type": "code",
   "execution_count": 25,
   "id": "d4821f93",
   "metadata": {},
   "outputs": [],
   "source": [
    "jaya = student([\"Ravi\",\"Shankar\",\"Mokshith\"],1456,16-6-2021,\"Objects\")"
   ]
  },
  {
   "cell_type": "code",
   "execution_count": 26,
   "id": "17c0724b",
   "metadata": {},
   "outputs": [
    {
     "name": "stdout",
     "output_type": "stream",
     "text": [
      "Do nothing\n"
     ]
    }
   ],
   "source": [
    "jaya.std_rollno()"
   ]
  },
  {
   "cell_type": "code",
   "execution_count": 27,
   "id": "d7e9f605",
   "metadata": {},
   "outputs": [
    {
     "data": {
      "text/plain": [
       "['Ravi', 'Shankar', 'Mokshith']"
      ]
     },
     "execution_count": 27,
     "metadata": {},
     "output_type": "execute_result"
    }
   ],
   "source": [
    "jaya.name"
   ]
  },
  {
   "cell_type": "code",
   "execution_count": 28,
   "id": "d7e061c2",
   "metadata": {},
   "outputs": [
    {
     "name": "stdout",
     "output_type": "stream",
     "text": [
      "Name of the student is  Ravi\n",
      "Name of the student is  Shankar\n",
      "Name of the student is  Mokshith\n"
     ]
    }
   ],
   "source": [
    "jaya.name_parsing()"
   ]
  },
  {
   "cell_type": "code",
   "execution_count": 29,
   "id": "307616fa",
   "metadata": {},
   "outputs": [
    {
     "name": "stdout",
     "output_type": "stream",
     "text": [
      "Do nothing\n"
     ]
    }
   ],
   "source": [
    "jaya.std_rollno()"
   ]
  },
  {
   "cell_type": "code",
   "execution_count": 30,
   "id": "a2332602",
   "metadata": {},
   "outputs": [
    {
     "data": {
      "text/plain": [
       "<bound method student.crttopic of <__main__.student object at 0x00000279DD4F4190>>"
      ]
     },
     "execution_count": 30,
     "metadata": {},
     "output_type": "execute_result"
    }
   ],
   "source": [
    "jaya.crttopic"
   ]
  },
  {
   "cell_type": "code",
   "execution_count": 31,
   "id": "10491bf4",
   "metadata": {},
   "outputs": [
    {
     "name": "stdout",
     "output_type": "stream",
     "text": [
      "Name of the student is  Ravi\n",
      "Name of the student is  Shankar\n",
      "Name of the student is  Mokshith\n"
     ]
    }
   ],
   "source": [
    "jaya.name_parsing()"
   ]
  },
  {
   "cell_type": "code",
   "execution_count": 32,
   "id": "bf4535a4",
   "metadata": {},
   "outputs": [
    {
     "name": "stdout",
     "output_type": "stream",
     "text": [
      "Do nothing\n"
     ]
    }
   ],
   "source": [
    "jaya.std_rollno()"
   ]
  },
  {
   "cell_type": "code",
   "execution_count": 33,
   "id": "91a18990",
   "metadata": {},
   "outputs": [
    {
     "name": "stdout",
     "output_type": "stream",
     "text": [
      "Current topic is  Objects\n"
     ]
    }
   ],
   "source": [
    "jaya.crttopic()"
   ]
  },
  {
   "cell_type": "code",
   "execution_count": 34,
   "id": "f66f8660",
   "metadata": {},
   "outputs": [],
   "source": [
    "class data:\n",
    "    def __init__(self,file_name, file_type, file_size,file_date):\n",
    "        self.file_name = file_name\n",
    "        self.file_type = file_type\n",
    "        self.file_size = file_size\n",
    "        self.file_date = file_date\n",
    "        \n",
    "        \n",
    "    def file_open(self):\n",
    "        f = open(self.file_name,\"w\")\n",
    "        f.writelines(\"Test Data have Been Provided\")\n",
    "        f.close()\n",
    "        \n",
    "    def file_read(self):\n",
    "        f = open(self.file_name,\"r\")\n",
    "        data = f.read()\n",
    "        f.close()\n",
    "        return data\n",
    "    \n",
    "    def file_apend(self):\n",
    "        f = open(self.file_name,\"a\")\n",
    "        f.writelines(\"#########Appended########\")\n",
    "        f.close()"
   ]
  },
  {
   "cell_type": "code",
   "execution_count": 35,
   "id": "05515436",
   "metadata": {},
   "outputs": [],
   "source": [
    "newfile = data(\"testone\",\"txt\",240,15-5-2022)\n",
    "newfile.file_open()\n",
    "newfile.file_read()\n",
    "newfile.file_apend()"
   ]
  },
  {
   "cell_type": "markdown",
   "id": "95ef8a03",
   "metadata": {},
   "source": [
    "### Abstraction"
   ]
  },
  {
   "cell_type": "code",
   "execution_count": 36,
   "id": "2d51db16",
   "metadata": {},
   "outputs": [],
   "source": [
    "class first:\n",
    "    def __init__(self,a , b, c, d):\n",
    "        self.__a = a\n",
    "        self.b = b\n",
    "        self.c = c\n",
    "        self.d = d\n",
    "        \n",
    "    def test_custome(self,v):\n",
    "        return v - self.__a\n",
    "    \n",
    "    def __str__(self):\n",
    "        return \"This the string code\""
   ]
  },
  {
   "cell_type": "code",
   "execution_count": 37,
   "id": "a1e0c857",
   "metadata": {},
   "outputs": [],
   "source": [
    "obj = first(1,2,3,4)"
   ]
  },
  {
   "cell_type": "code",
   "execution_count": 38,
   "id": "d30c1d45",
   "metadata": {},
   "outputs": [
    {
     "data": {
      "text/plain": [
       "0"
      ]
     },
     "execution_count": 38,
     "metadata": {},
     "output_type": "execute_result"
    }
   ],
   "source": [
    "obj.test_custome(1)"
   ]
  },
  {
   "cell_type": "code",
   "execution_count": 39,
   "id": "58350270",
   "metadata": {},
   "outputs": [
    {
     "data": {
      "text/plain": [
       "1"
      ]
     },
     "execution_count": 39,
     "metadata": {},
     "output_type": "execute_result"
    }
   ],
   "source": [
    "obj._first__a"
   ]
  },
  {
   "cell_type": "code",
   "execution_count": 40,
   "id": "4e8f4616",
   "metadata": {},
   "outputs": [
    {
     "data": {
      "text/plain": [
       "<bound method first.__str__ of <__main__.first object at 0x00000279DD4DBFD0>>"
      ]
     },
     "execution_count": 40,
     "metadata": {},
     "output_type": "execute_result"
    }
   ],
   "source": [
    "obj.__str__"
   ]
  },
  {
   "cell_type": "markdown",
   "id": "05bbc96b",
   "metadata": {},
   "source": [
    "### Inheritance"
   ]
  },
  {
   "cell_type": "code",
   "execution_count": 41,
   "id": "97506717",
   "metadata": {},
   "outputs": [],
   "source": [
    "class second(first):\n",
    "    def __init__(self,j,*args):\n",
    "        super(second,self).__init__(*args)\n",
    "        self.j = j\n",
    "        \n",
    "obj = second(2,3,\"Ravi\",5,6)\n"
   ]
  },
  {
   "cell_type": "code",
   "execution_count": 42,
   "id": "b1214846",
   "metadata": {},
   "outputs": [
    {
     "data": {
      "text/plain": [
       "'Ravi'"
      ]
     },
     "execution_count": 42,
     "metadata": {},
     "output_type": "execute_result"
    }
   ],
   "source": [
    "obj.b"
   ]
  },
  {
   "cell_type": "code",
   "execution_count": 43,
   "id": "13985212",
   "metadata": {},
   "outputs": [
    {
     "data": {
      "text/plain": [
       "-1"
      ]
     },
     "execution_count": 43,
     "metadata": {},
     "output_type": "execute_result"
    }
   ],
   "source": [
    "obj.test_custome(2)"
   ]
  },
  {
   "cell_type": "code",
   "execution_count": 44,
   "id": "f3a34ed4",
   "metadata": {},
   "outputs": [
    {
     "data": {
      "text/plain": [
       "5"
      ]
     },
     "execution_count": 44,
     "metadata": {},
     "output_type": "execute_result"
    }
   ],
   "source": [
    "obj.c"
   ]
  },
  {
   "cell_type": "code",
   "execution_count": 45,
   "id": "3b885c34",
   "metadata": {},
   "outputs": [
    {
     "data": {
      "text/plain": [
       "6"
      ]
     },
     "execution_count": 45,
     "metadata": {},
     "output_type": "execute_result"
    }
   ],
   "source": [
    "obj.d"
   ]
  },
  {
   "cell_type": "code",
   "execution_count": 46,
   "id": "8caa0779",
   "metadata": {},
   "outputs": [],
   "source": [
    "class test:\n",
    "    def __init_(self,a):\n",
    "        self.a = a\n",
    "        \n",
    "    def a(self):\n",
    "        print( \"This is test_a\")\n",
    "    \n",
    "    "
   ]
  },
  {
   "cell_type": "code",
   "execution_count": 47,
   "id": "f572b679",
   "metadata": {},
   "outputs": [],
   "source": [
    "class test_1:\n",
    "    def __init_(self,a):\n",
    "        self.a = a\n",
    "        \n",
    "    def a(self):\n",
    "        print( \"This is test_1_a\")\n"
   ]
  },
  {
   "cell_type": "code",
   "execution_count": 48,
   "id": "20f75a29",
   "metadata": {},
   "outputs": [],
   "source": [
    "class test_2(test_1,test):\n",
    "    def __init_(self,i,*args):\n",
    "        super(test_2,self).__init__(*args)\n",
    "        self.i = i\n",
    "        \n",
    "    def new_data(self):\n",
    "        test.a(self)\n",
    "        test_1.a(self)\n"
   ]
  },
  {
   "cell_type": "code",
   "execution_count": 49,
   "id": "8cbcc855",
   "metadata": {},
   "outputs": [
    {
     "name": "stdout",
     "output_type": "stream",
     "text": [
      "This is test_a\n",
      "This is test_1_a\n"
     ]
    }
   ],
   "source": [
    "var = test_2()\n",
    "var.new_data()"
   ]
  },
  {
   "cell_type": "code",
   "execution_count": 50,
   "id": "18de6eeb",
   "metadata": {},
   "outputs": [],
   "source": [
    "class encaps:\n",
    "    def __init__(self,a,b,c):\n",
    "        self.a = a \n",
    "        self.b = b\n",
    "        self.c = c\n",
    "        \n",
    "    def __str__(self):\n",
    "        return \"This is the 1111--STR--1111\"\n",
    "    \n",
    "class encaps2:\n",
    "    def __init__(self,a,b,c):\n",
    "        self.a = a \n",
    "        self.b = b\n",
    "        self.c = c\n",
    "        \n",
    "    def __str__(self):\n",
    "        return \"This is the 2222--STR--222\"    \n",
    "\n",
    "class encaps3:\n",
    "    def __init__(self,a,b,c):\n",
    "        self.a = a \n",
    "        self.b = b\n",
    "        self.c = c\n",
    "        \n",
    "    def __str__(self):\n",
    "        return \"This is the 3333--STR--3333\" \n",
    "    \n",
    "class final:\n",
    "    def __init__(self,x,y,z):\n",
    "        self.x = x \n",
    "        self.y = y\n",
    "        self.z = z\n",
    "        \n",
    "    def __str__(self):\n",
    "        return str(self.x) + \" \" + str(self.y)+\" \"+str(self.z)"
   ]
  },
  {
   "cell_type": "code",
   "execution_count": 51,
   "id": "73ff2a7e",
   "metadata": {},
   "outputs": [],
   "source": [
    "one  = encaps(1,2,3)\n",
    "two = encaps2(4,5,6)\n",
    "three = encaps3(7,8,9)\n",
    "last = final(one,two,\"Ravi\")"
   ]
  },
  {
   "cell_type": "code",
   "execution_count": 52,
   "id": "07d5da09",
   "metadata": {},
   "outputs": [
    {
     "name": "stdout",
     "output_type": "stream",
     "text": [
      "This is the 1111--STR--1111 This is the 2222--STR--222 Ravi\n"
     ]
    }
   ],
   "source": [
    "print(last)"
   ]
  },
  {
   "cell_type": "code",
   "execution_count": 115,
   "id": "79ac29bd",
   "metadata": {},
   "outputs": [],
   "source": [
    "class mobile:\n",
    "    def __init__(self,name,model,headphones):\n",
    "        self.name = name\n",
    "        self.model = model\n",
    "        self.headphones = headphones\n",
    "        \n",
    "    def dislaydetails(self):\n",
    "        return \"name of the mobile is {0} and model is {1} with earphones {2}\".format(self.name,self.model,self.headphones)\n",
    "    \n",
    "    def viewheadphones(self):\n",
    "        return \"headphones is {0}\".format(self.headphones)"
   ]
  },
  {
   "cell_type": "code",
   "execution_count": 116,
   "id": "b38ed666",
   "metadata": {},
   "outputs": [],
   "source": [
    "obj = mobile(\"Oppo\",\"A8\",\"Yes\")"
   ]
  },
  {
   "cell_type": "code",
   "execution_count": 117,
   "id": "6b0282c4",
   "metadata": {},
   "outputs": [
    {
     "data": {
      "text/plain": [
       "'name of the mobile is Oppo and model is A8 with earphones Yes'"
      ]
     },
     "execution_count": 117,
     "metadata": {},
     "output_type": "execute_result"
    }
   ],
   "source": [
    "obj.dislaydetails()\n"
   ]
  },
  {
   "cell_type": "code",
   "execution_count": 123,
   "id": "09d48a46",
   "metadata": {},
   "outputs": [
    {
     "data": {
      "text/plain": [
       "'headphones is Yes'"
      ]
     },
     "execution_count": 123,
     "metadata": {},
     "output_type": "execute_result"
    }
   ],
   "source": [
    "obj.viewheadphones()"
   ]
  },
  {
   "cell_type": "code",
   "execution_count": 119,
   "id": "5c01306a",
   "metadata": {},
   "outputs": [
    {
     "data": {
      "text/plain": [
       "'Yes'"
      ]
     },
     "execution_count": 119,
     "metadata": {},
     "output_type": "execute_result"
    }
   ],
   "source": [
    "obj.headphones"
   ]
  },
  {
   "cell_type": "code",
   "execution_count": 120,
   "id": "fc845639",
   "metadata": {},
   "outputs": [
    {
     "data": {
      "text/plain": [
       "'A8'"
      ]
     },
     "execution_count": 120,
     "metadata": {},
     "output_type": "execute_result"
    }
   ],
   "source": [
    "obj.model"
   ]
  },
  {
   "cell_type": "code",
   "execution_count": 114,
   "id": "3d0945c9",
   "metadata": {},
   "outputs": [
    {
     "data": {
      "text/plain": [
       "'Oppo'"
      ]
     },
     "execution_count": 114,
     "metadata": {},
     "output_type": "execute_result"
    }
   ],
   "source": [
    "obj.name"
   ]
  },
  {
   "cell_type": "code",
   "execution_count": 51,
   "id": "767f2bf1",
   "metadata": {},
   "outputs": [],
   "source": [
    "class yoga:\n",
    "    def __init__(self,house,bike,car):\n",
    "        self.house = house \n",
    "        self.bike = bike \n",
    "        self.car = car\n",
    "        \n",
    "    def display(self):\n",
    "        return self.house, self.bike, self.car\n",
    "    \n",
    "class ravi(yoga):\n",
    "    def __init__(self,pulsar_bike,*args):\n",
    "        #super(ravi,self).__init__(*args)\n",
    "        self.pulsar_bike = pulsar_bike\n",
    "        yoga.__init__(self,*args)\n",
    "        \n",
    "        \n",
    "        \n",
    "    def ownbike(self):\n",
    "        return self.pulsar_bike"
   ]
  },
  {
   "cell_type": "code",
   "execution_count": 52,
   "id": "c40e53ab",
   "metadata": {},
   "outputs": [],
   "source": [
    "obj = ravi(\"Pilsar bike\",\"Chittoor\",\"Honda Bike\",\"Dzire car\")"
   ]
  },
  {
   "cell_type": "code",
   "execution_count": 53,
   "id": "e6b7cb84",
   "metadata": {},
   "outputs": [
    {
     "data": {
      "text/plain": [
       "'Pilsar bike'"
      ]
     },
     "execution_count": 53,
     "metadata": {},
     "output_type": "execute_result"
    }
   ],
   "source": [
    "obj.ownbike()"
   ]
  },
  {
   "cell_type": "code",
   "execution_count": 54,
   "id": "627e69f5",
   "metadata": {},
   "outputs": [
    {
     "data": {
      "text/plain": [
       "'Pilsar bike'"
      ]
     },
     "execution_count": 54,
     "metadata": {},
     "output_type": "execute_result"
    }
   ],
   "source": [
    "obj.pulsar_bike"
   ]
  },
  {
   "cell_type": "code",
   "execution_count": 55,
   "id": "993d7f5c",
   "metadata": {},
   "outputs": [
    {
     "data": {
      "text/plain": [
       "'Honda Bike'"
      ]
     },
     "execution_count": 55,
     "metadata": {},
     "output_type": "execute_result"
    }
   ],
   "source": [
    "obj.bike"
   ]
  },
  {
   "cell_type": "code",
   "execution_count": 56,
   "id": "602b8116",
   "metadata": {},
   "outputs": [
    {
     "data": {
      "text/plain": [
       "'Dzire car'"
      ]
     },
     "execution_count": 56,
     "metadata": {},
     "output_type": "execute_result"
    }
   ],
   "source": [
    "obj.car"
   ]
  },
  {
   "cell_type": "code",
   "execution_count": 57,
   "id": "54374138",
   "metadata": {},
   "outputs": [
    {
     "data": {
      "text/plain": [
       "'Chittoor'"
      ]
     },
     "execution_count": 57,
     "metadata": {},
     "output_type": "execute_result"
    }
   ],
   "source": [
    "obj.house"
   ]
  },
  {
   "cell_type": "code",
   "execution_count": 58,
   "id": "0679e3dc",
   "metadata": {},
   "outputs": [
    {
     "data": {
      "text/plain": [
       "('Chittoor', 'Honda Bike', 'Dzire car')"
      ]
     },
     "execution_count": 58,
     "metadata": {},
     "output_type": "execute_result"
    }
   ],
   "source": [
    "obj.display()"
   ]
  },
  {
   "cell_type": "code",
   "execution_count": 59,
   "id": "671addbe",
   "metadata": {},
   "outputs": [],
   "source": [
    "new = yoga(\"Mittoor\",\"Honda\",\"Dzire\")"
   ]
  },
  {
   "cell_type": "code",
   "execution_count": 60,
   "id": "f4c14dc2",
   "metadata": {},
   "outputs": [
    {
     "data": {
      "text/plain": [
       "('Mittoor', 'Honda', 'Dzire')"
      ]
     },
     "execution_count": 60,
     "metadata": {},
     "output_type": "execute_result"
    }
   ],
   "source": [
    "new.display()"
   ]
  },
  {
   "cell_type": "code",
   "execution_count": 61,
   "id": "16bc125a",
   "metadata": {},
   "outputs": [
    {
     "data": {
      "text/plain": [
       "('Chittoor', 'Honda Bike', 'Dzire car')"
      ]
     },
     "execution_count": 61,
     "metadata": {},
     "output_type": "execute_result"
    }
   ],
   "source": [
    "obj.display()"
   ]
  },
  {
   "cell_type": "code",
   "execution_count": 4,
   "id": "aa7570d3",
   "metadata": {},
   "outputs": [],
   "source": [
    "class father:\n",
    "    def __init__(self,house):\n",
    "        self.house = house\n",
    "    \n",
    "    def dipslay_house(self):\n",
    "        return self.house\n",
    "class son(father):\n",
    "    def __init__(self,bike):\n",
    "        self.bike = bike\n",
    "    \n",
    "    def dipslay_bike(self):\n",
    "        return self.bike\n",
    "class grandson(son):\n",
    "    def __init__(self,car):\n",
    "        self.car = car\n",
    "    \n",
    "    def dipslay_car(self):\n",
    "        return self.car"
   ]
  },
  {
   "cell_type": "code",
   "execution_count": 9,
   "id": "9089e919",
   "metadata": {},
   "outputs": [],
   "source": [
    "obj = grandson(\"Audi\")"
   ]
  },
  {
   "cell_type": "code",
   "execution_count": 8,
   "id": "9b096456",
   "metadata": {},
   "outputs": [
    {
     "ename": "AttributeError",
     "evalue": "'grandson' object has no attribute 'house'",
     "output_type": "error",
     "traceback": [
      "\u001b[1;31m---------------------------------------------------------------------------\u001b[0m",
      "\u001b[1;31mAttributeError\u001b[0m                            Traceback (most recent call last)",
      "\u001b[1;32m<ipython-input-8-ceaead23bc9e>\u001b[0m in \u001b[0;36m<module>\u001b[1;34m\u001b[0m\n\u001b[1;32m----> 1\u001b[1;33m \u001b[0mobj\u001b[0m\u001b[1;33m.\u001b[0m\u001b[0mdipslay_house\u001b[0m\u001b[1;33m(\u001b[0m\u001b[1;33m)\u001b[0m\u001b[1;33m\u001b[0m\u001b[1;33m\u001b[0m\u001b[0m\n\u001b[0m",
      "\u001b[1;32m<ipython-input-4-b230cf92c966>\u001b[0m in \u001b[0;36mdipslay_house\u001b[1;34m(self)\u001b[0m\n\u001b[0;32m      4\u001b[0m \u001b[1;33m\u001b[0m\u001b[0m\n\u001b[0;32m      5\u001b[0m     \u001b[1;32mdef\u001b[0m \u001b[0mdipslay_house\u001b[0m\u001b[1;33m(\u001b[0m\u001b[0mself\u001b[0m\u001b[1;33m)\u001b[0m\u001b[1;33m:\u001b[0m\u001b[1;33m\u001b[0m\u001b[1;33m\u001b[0m\u001b[0m\n\u001b[1;32m----> 6\u001b[1;33m         \u001b[1;32mreturn\u001b[0m \u001b[0mself\u001b[0m\u001b[1;33m.\u001b[0m\u001b[0mhouse\u001b[0m\u001b[1;33m\u001b[0m\u001b[1;33m\u001b[0m\u001b[0m\n\u001b[0m\u001b[0;32m      7\u001b[0m \u001b[1;32mclass\u001b[0m \u001b[0mson\u001b[0m\u001b[1;33m(\u001b[0m\u001b[0mfather\u001b[0m\u001b[1;33m)\u001b[0m\u001b[1;33m:\u001b[0m\u001b[1;33m\u001b[0m\u001b[1;33m\u001b[0m\u001b[0m\n\u001b[0;32m      8\u001b[0m     \u001b[1;32mdef\u001b[0m \u001b[0m__init__\u001b[0m\u001b[1;33m(\u001b[0m\u001b[0mself\u001b[0m\u001b[1;33m,\u001b[0m\u001b[0mbike\u001b[0m\u001b[1;33m)\u001b[0m\u001b[1;33m:\u001b[0m\u001b[1;33m\u001b[0m\u001b[1;33m\u001b[0m\u001b[0m\n",
      "\u001b[1;31mAttributeError\u001b[0m: 'grandson' object has no attribute 'house'"
     ]
    }
   ],
   "source": [
    "obj.dipslay_house()"
   ]
  },
  {
   "cell_type": "code",
   "execution_count": null,
   "id": "9d8d40a1",
   "metadata": {},
   "outputs": [],
   "source": []
  }
 ],
 "metadata": {
  "kernelspec": {
   "display_name": "Python 3",
   "language": "python",
   "name": "python3"
  },
  "language_info": {
   "codemirror_mode": {
    "name": "ipython",
    "version": 3
   },
   "file_extension": ".py",
   "mimetype": "text/x-python",
   "name": "python",
   "nbconvert_exporter": "python",
   "pygments_lexer": "ipython3",
   "version": "3.8.8"
  }
 },
 "nbformat": 4,
 "nbformat_minor": 5
}
