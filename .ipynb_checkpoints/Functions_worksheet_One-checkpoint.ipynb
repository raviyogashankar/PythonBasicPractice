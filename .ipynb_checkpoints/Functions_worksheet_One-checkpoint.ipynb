{
 "cells": [
  {
   "cell_type": "code",
   "execution_count": 1,
   "id": "be2b2b1a",
   "metadata": {},
   "outputs": [
    {
     "data": {
      "text/plain": [
       "30"
      ]
     },
     "execution_count": 1,
     "metadata": {},
     "output_type": "execute_result"
    }
   ],
   "source": [
    "a = 10\n",
    "b = 20\n",
    "a + b\n"
   ]
  },
  {
   "cell_type": "code",
   "execution_count": 2,
   "id": "0cb5b4f1",
   "metadata": {},
   "outputs": [],
   "source": [
    "def sum_of_variables(a,b): # def - definiton of a function \n",
    "    return a +b"
   ]
  },
  {
   "cell_type": "code",
   "execution_count": 3,
   "id": "3ba17a31",
   "metadata": {},
   "outputs": [
    {
     "data": {
      "text/plain": [
       "30"
      ]
     },
     "execution_count": 3,
     "metadata": {},
     "output_type": "execute_result"
    }
   ],
   "source": [
    "sum_of_variables(10,20)"
   ]
  },
  {
   "cell_type": "code",
   "execution_count": 11,
   "id": "6926016c",
   "metadata": {},
   "outputs": [],
   "source": [
    "def dam(x,y):\n",
    "    print(\"This is the values of data\", x,y)"
   ]
  },
  {
   "cell_type": "code",
   "execution_count": 32,
   "id": "c4bd9b3b",
   "metadata": {},
   "outputs": [
    {
     "name": "stdout",
     "output_type": "stream",
     "text": [
      "This is the values of data 10 20\n"
     ]
    },
    {
     "data": {
      "text/plain": [
       "NoneType"
      ]
     },
     "execution_count": 32,
     "metadata": {},
     "output_type": "execute_result"
    }
   ],
   "source": [
    "type(dam(10,20)) # Print will give you NoneType"
   ]
  },
  {
   "cell_type": "code",
   "execution_count": 27,
   "id": "1f075b3b",
   "metadata": {},
   "outputs": [],
   "source": [
    "def mul(x,y):\n",
    "    return x*y\n"
   ]
  },
  {
   "cell_type": "code",
   "execution_count": 34,
   "id": "2f3aa2dc",
   "metadata": {},
   "outputs": [
    {
     "data": {
      "text/plain": [
       "int"
      ]
     },
     "execution_count": 34,
     "metadata": {},
     "output_type": "execute_result"
    }
   ],
   "source": [
    "type(mul(5,15)) #return will give you the respective data type"
   ]
  },
  {
   "cell_type": "code",
   "execution_count": 38,
   "id": "e9776caf",
   "metadata": {},
   "outputs": [
    {
     "name": "stdout",
     "output_type": "stream",
     "text": [
      "\n"
     ]
    },
    {
     "data": {
      "text/plain": [
       "NoneType"
      ]
     },
     "execution_count": 38,
     "metadata": {},
     "output_type": "execute_result"
    }
   ],
   "source": [
    "type(print())"
   ]
  },
  {
   "cell_type": "code",
   "execution_count": 39,
   "id": "7bf13947",
   "metadata": {},
   "outputs": [],
   "source": [
    "def test1(a,b,c):\n",
    "    return a + b"
   ]
  },
  {
   "cell_type": "code",
   "execution_count": 43,
   "id": "17016dfc",
   "metadata": {},
   "outputs": [
    {
     "ename": "TypeError",
     "evalue": "test1() missing 1 required positional argument: 'c'",
     "output_type": "error",
     "traceback": [
      "\u001b[1;31m---------------------------------------------------------------------------\u001b[0m",
      "\u001b[1;31mTypeError\u001b[0m                                 Traceback (most recent call last)",
      "\u001b[1;32m<ipython-input-43-2012a26a6467>\u001b[0m in \u001b[0;36m<module>\u001b[1;34m\u001b[0m\n\u001b[1;32m----> 1\u001b[1;33m \u001b[0mtest1\u001b[0m\u001b[1;33m(\u001b[0m\u001b[1;36m10\u001b[0m\u001b[1;33m,\u001b[0m\u001b[1;36m20\u001b[0m\u001b[1;33m)\u001b[0m \u001b[1;31m# Irrespective of the argumenst used inside the function we are supposed to pass apl the arguments\u001b[0m\u001b[1;33m\u001b[0m\u001b[1;33m\u001b[0m\u001b[0m\n\u001b[0m",
      "\u001b[1;31mTypeError\u001b[0m: test1() missing 1 required positional argument: 'c'"
     ]
    }
   ],
   "source": [
    "test1(10,20) # Irrespective of the argumenst used inside the function we are supposed to pass apl the arguments"
   ]
  },
  {
   "cell_type": "code",
   "execution_count": 44,
   "id": "ac07bb46",
   "metadata": {},
   "outputs": [],
   "source": [
    "def test2(a,b):\n",
    "    return a*1,b*5,a*b"
   ]
  },
  {
   "cell_type": "code",
   "execution_count": 48,
   "id": "6458893c",
   "metadata": {},
   "outputs": [
    {
     "data": {
      "text/plain": [
       "(5, 30, 30)"
      ]
     },
     "execution_count": 48,
     "metadata": {},
     "output_type": "execute_result"
    }
   ],
   "source": [
    "test2(5,6)"
   ]
  },
  {
   "cell_type": "code",
   "execution_count": 49,
   "id": "3a201037",
   "metadata": {},
   "outputs": [
    {
     "data": {
      "text/plain": [
       "tuple"
      ]
     },
     "execution_count": 49,
     "metadata": {},
     "output_type": "execute_result"
    }
   ],
   "source": [
    "type(test2(3,5)) # multiple returns give as tuple by default "
   ]
  },
  {
   "cell_type": "code",
   "execution_count": 50,
   "id": "ce75193d",
   "metadata": {},
   "outputs": [],
   "source": [
    "x,y,z = test2(10,20) # Multiple returns"
   ]
  },
  {
   "cell_type": "code",
   "execution_count": 51,
   "id": "0d9b2c8d",
   "metadata": {},
   "outputs": [
    {
     "data": {
      "text/plain": [
       "10"
      ]
     },
     "execution_count": 51,
     "metadata": {},
     "output_type": "execute_result"
    }
   ],
   "source": [
    "x"
   ]
  },
  {
   "cell_type": "code",
   "execution_count": 52,
   "id": "03fe7695",
   "metadata": {},
   "outputs": [
    {
     "data": {
      "text/plain": [
       "100"
      ]
     },
     "execution_count": 52,
     "metadata": {},
     "output_type": "execute_result"
    }
   ],
   "source": [
    "y\n"
   ]
  },
  {
   "cell_type": "code",
   "execution_count": 53,
   "id": "4bb7d24b",
   "metadata": {},
   "outputs": [
    {
     "data": {
      "text/plain": [
       "200"
      ]
     },
     "execution_count": 53,
     "metadata": {},
     "output_type": "execute_result"
    }
   ],
   "source": [
    "z"
   ]
  },
  {
   "cell_type": "code",
   "execution_count": 54,
   "id": "816f7b12",
   "metadata": {},
   "outputs": [],
   "source": [
    "c,v,_= test2(10,20) #Placeholder holding the value instead of a variable"
   ]
  },
  {
   "cell_type": "code",
   "execution_count": 60,
   "id": "a626b322",
   "metadata": {},
   "outputs": [
    {
     "data": {
      "text/plain": [
       "10"
      ]
     },
     "execution_count": 60,
     "metadata": {},
     "output_type": "execute_result"
    }
   ],
   "source": [
    "c"
   ]
  },
  {
   "cell_type": "code",
   "execution_count": 61,
   "id": "6a425943",
   "metadata": {},
   "outputs": [
    {
     "data": {
      "text/plain": [
       "100"
      ]
     },
     "execution_count": 61,
     "metadata": {},
     "output_type": "execute_result"
    }
   ],
   "source": [
    "v"
   ]
  },
  {
   "cell_type": "code",
   "execution_count": 62,
   "id": "b80547e9",
   "metadata": {},
   "outputs": [
    {
     "data": {
      "text/plain": [
       "100"
      ]
     },
     "execution_count": 62,
     "metadata": {},
     "output_type": "execute_result"
    }
   ],
   "source": [
    "_"
   ]
  },
  {
   "cell_type": "code",
   "execution_count": 63,
   "id": "78885839",
   "metadata": {},
   "outputs": [
    {
     "ename": "TypeError",
     "evalue": "test2() missing 2 required positional arguments: 'a' and 'b'",
     "output_type": "error",
     "traceback": [
      "\u001b[1;31m---------------------------------------------------------------------------\u001b[0m",
      "\u001b[1;31mTypeError\u001b[0m                                 Traceback (most recent call last)",
      "\u001b[1;32m<ipython-input-63-dc68cc5e68a9>\u001b[0m in \u001b[0;36m<module>\u001b[1;34m\u001b[0m\n\u001b[0;32m      1\u001b[0m \u001b[1;31m# Gives error if have multiple returns\u001b[0m\u001b[1;33m\u001b[0m\u001b[1;33m\u001b[0m\u001b[1;33m\u001b[0m\u001b[0m\n\u001b[1;32m----> 2\u001b[1;33m \u001b[0ms\u001b[0m\u001b[1;33m,\u001b[0m\u001b[0md\u001b[0m \u001b[1;33m=\u001b[0m \u001b[0mtest2\u001b[0m\u001b[1;33m(\u001b[0m\u001b[1;33m)\u001b[0m\u001b[1;33m\u001b[0m\u001b[1;33m\u001b[0m\u001b[0m\n\u001b[0m",
      "\u001b[1;31mTypeError\u001b[0m: test2() missing 2 required positional arguments: 'a' and 'b'"
     ]
    }
   ],
   "source": [
    "# Gives error if have multiple returns \n",
    "s,d = test2()"
   ]
  },
  {
   "cell_type": "code",
   "execution_count": 65,
   "id": "4fe88890",
   "metadata": {},
   "outputs": [],
   "source": [
    "def test3(a,b):\n",
    "    return b\n",
    "    return a"
   ]
  },
  {
   "cell_type": "code",
   "execution_count": 66,
   "id": "39842145",
   "metadata": {},
   "outputs": [
    {
     "data": {
      "text/plain": [
       "20"
      ]
     },
     "execution_count": 66,
     "metadata": {},
     "output_type": "execute_result"
    }
   ],
   "source": [
    "test3(10,20)"
   ]
  },
  {
   "cell_type": "code",
   "execution_count": 67,
   "id": "a5cf24b2",
   "metadata": {},
   "outputs": [],
   "source": [
    "def test4():\n",
    "    return \"This is a string \""
   ]
  },
  {
   "cell_type": "code",
   "execution_count": 68,
   "id": "544dba2d",
   "metadata": {},
   "outputs": [
    {
     "data": {
      "text/plain": [
       "'This is a string '"
      ]
     },
     "execution_count": 68,
     "metadata": {},
     "output_type": "execute_result"
    }
   ],
   "source": [
    "test4()"
   ]
  },
  {
   "cell_type": "code",
   "execution_count": 69,
   "id": "ebcabc83",
   "metadata": {},
   "outputs": [
    {
     "data": {
      "text/plain": [
       "'This is a string Ravi Shankar'"
      ]
     },
     "execution_count": 69,
     "metadata": {},
     "output_type": "execute_result"
    }
   ],
   "source": [
    "test4()+\"Ravi Shankar\""
   ]
  },
  {
   "cell_type": "code",
   "execution_count": 76,
   "id": "05b88696",
   "metadata": {},
   "outputs": [],
   "source": [
    "def test5(i):\n",
    "    return i,i*2"
   ]
  },
  {
   "cell_type": "code",
   "execution_count": 77,
   "id": "e3df629b",
   "metadata": {},
   "outputs": [
    {
     "data": {
      "text/plain": [
       "(7, 14)"
      ]
     },
     "execution_count": 77,
     "metadata": {},
     "output_type": "execute_result"
    }
   ],
   "source": [
    "test5(7)"
   ]
  },
  {
   "cell_type": "code",
   "execution_count": 78,
   "id": "cf0dc713",
   "metadata": {},
   "outputs": [
    {
     "data": {
      "text/plain": [
       "([2, 3, 4, 5, 6, 67, 8], [2, 3, 4, 5, 6, 67, 8, 2, 3, 4, 5, 6, 67, 8])"
      ]
     },
     "execution_count": 78,
     "metadata": {},
     "output_type": "execute_result"
    }
   ],
   "source": [
    "test5([2,3,4,5,6,67,8,])"
   ]
  },
  {
   "cell_type": "code",
   "execution_count": 85,
   "id": "7335ffc5",
   "metadata": {},
   "outputs": [],
   "source": [
    "def test6(m,n = 30): # Asignment pasarameter should be folowed by default parameter \n",
    "    return n+m"
   ]
  },
  {
   "cell_type": "code",
   "execution_count": 86,
   "id": "df30f1a0",
   "metadata": {},
   "outputs": [
    {
     "data": {
      "text/plain": [
       "60"
      ]
     },
     "execution_count": 86,
     "metadata": {},
     "output_type": "execute_result"
    }
   ],
   "source": [
    "test6(10,50)"
   ]
  },
  {
   "cell_type": "code",
   "execution_count": 94,
   "id": "34b42b9e",
   "metadata": {},
   "outputs": [],
   "source": [
    "def test7(x = True,y=False):\n",
    "    \"\"\"This is a Doc String\"\"\"\n",
    "    return x +y\n",
    "    "
   ]
  },
  {
   "cell_type": "code",
   "execution_count": 95,
   "id": "93b61342",
   "metadata": {},
   "outputs": [
    {
     "data": {
      "text/plain": [
       "1"
      ]
     },
     "execution_count": 95,
     "metadata": {},
     "output_type": "execute_result"
    }
   ],
   "source": [
    "test7(False,1) #Can override the values while calling"
   ]
  },
  {
   "cell_type": "code",
   "execution_count": 98,
   "id": "37c47980",
   "metadata": {},
   "outputs": [],
   "source": [
    "def travel(bike = True, car = False):\n",
    "    plan_travel = bike or car\n",
    "    return bike,car,plan_travel"
   ]
  },
  {
   "cell_type": "code",
   "execution_count": 102,
   "id": "3ce20878",
   "metadata": {},
   "outputs": [
    {
     "data": {
      "text/plain": [
       "(True, True, True)"
      ]
     },
     "execution_count": 102,
     "metadata": {},
     "output_type": "execute_result"
    }
   ],
   "source": [
    "travel(True,True)"
   ]
  },
  {
   "cell_type": "code",
   "execution_count": 103,
   "id": "a164d516",
   "metadata": {},
   "outputs": [
    {
     "data": {
      "text/plain": [
       "(True, False, True)"
      ]
     },
     "execution_count": 103,
     "metadata": {},
     "output_type": "execute_result"
    }
   ],
   "source": [
    "travel(True,False)"
   ]
  },
  {
   "cell_type": "code",
   "execution_count": 104,
   "id": "1e0fdeb3",
   "metadata": {},
   "outputs": [
    {
     "data": {
      "text/plain": [
       "(False, True, True)"
      ]
     },
     "execution_count": 104,
     "metadata": {},
     "output_type": "execute_result"
    }
   ],
   "source": [
    "travel(False,True)"
   ]
  },
  {
   "cell_type": "code",
   "execution_count": 105,
   "id": "9020690b",
   "metadata": {},
   "outputs": [
    {
     "data": {
      "text/plain": [
       "(False, False, False)"
      ]
     },
     "execution_count": 105,
     "metadata": {},
     "output_type": "execute_result"
    }
   ],
   "source": [
    "travel(False,False)"
   ]
  },
  {
   "cell_type": "code",
   "execution_count": 108,
   "id": "ae97088c",
   "metadata": {},
   "outputs": [],
   "source": [
    "def test8(*args, a = \"Ravi\"):\n",
    "    return args,a\n",
    "    "
   ]
  },
  {
   "cell_type": "code",
   "execution_count": 109,
   "id": "507af92a",
   "metadata": {},
   "outputs": [
    {
     "data": {
      "text/plain": [
       "(('Ravishankar', [10, 20]), 'Ravi')"
      ]
     },
     "execution_count": 109,
     "metadata": {},
     "output_type": "execute_result"
    }
   ],
   "source": [
    "test8(\"Ravishankar\",[10,20])"
   ]
  },
  {
   "cell_type": "code",
   "execution_count": 110,
   "id": "dae9263d",
   "metadata": {},
   "outputs": [],
   "source": [
    "def test9(*args):\n",
    "    lst = []\n",
    "    for i in args:\n",
    "        lst.append(i)\n",
    "    return lst"
   ]
  },
  {
   "cell_type": "code",
   "execution_count": 112,
   "id": "48b9e65c",
   "metadata": {},
   "outputs": [
    {
     "data": {
      "text/plain": [
       "[[10], [20], [30, 40, 50], 'Ravi', 'Shankar']"
      ]
     },
     "execution_count": 112,
     "metadata": {},
     "output_type": "execute_result"
    }
   ],
   "source": [
    "test9([10],[20],[30,40,50],\"Ravi\",\"Shankar\")"
   ]
  },
  {
   "cell_type": "code",
   "execution_count": 113,
   "id": "aac3bdde",
   "metadata": {},
   "outputs": [
    {
     "data": {
      "text/plain": [
       "[[10, 20, 30], (20, 30, 40)]"
      ]
     },
     "execution_count": 113,
     "metadata": {},
     "output_type": "execute_result"
    }
   ],
   "source": [
    "test9([10,20,30],(20,30,40))"
   ]
  },
  {
   "cell_type": "code",
   "execution_count": 114,
   "id": "52fa0aec",
   "metadata": {},
   "outputs": [],
   "source": [
    "def test10():\n",
    "    l = []\n",
    "    return [l for i in args]"
   ]
  },
  {
   "cell_type": "code",
   "execution_count": null,
   "id": "24ccc662",
   "metadata": {},
   "outputs": [],
   "source": []
  },
  {
   "cell_type": "code",
   "execution_count": null,
   "id": "fd8cf1e0",
   "metadata": {},
   "outputs": [],
   "source": []
  }
 ],
 "metadata": {
  "kernelspec": {
   "display_name": "Python 3",
   "language": "python",
   "name": "python3"
  },
  "language_info": {
   "codemirror_mode": {
    "name": "ipython",
    "version": 3
   },
   "file_extension": ".py",
   "mimetype": "text/x-python",
   "name": "python",
   "nbconvert_exporter": "python",
   "pygments_lexer": "ipython3",
   "version": "3.8.8"
  }
 },
 "nbformat": 4,
 "nbformat_minor": 5
}
