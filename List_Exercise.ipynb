{
 "cells": [
  {
   "cell_type": "markdown",
   "id": "7bd962c2",
   "metadata": {},
   "source": [
    "### Exercise 1: Write a program to create a list with random data types elements."
   ]
  },
  {
   "cell_type": "code",
   "execution_count": 15,
   "id": "bac6bbb2",
   "metadata": {},
   "outputs": [],
   "source": [
    "list1 = [\"one\",2,3.0,2+6j,True,{'k':'one'},(2,4),[2,5]]"
   ]
  },
  {
   "cell_type": "code",
   "execution_count": 16,
   "id": "4ffc3c93",
   "metadata": {},
   "outputs": [
    {
     "data": {
      "text/plain": [
       "['one', 2, 3.0, (2+6j), True, {'k': 'one'}, (2, 4), [2, 5]]"
      ]
     },
     "execution_count": 16,
     "metadata": {},
     "output_type": "execute_result"
    }
   ],
   "source": [
    "list1"
   ]
  },
  {
   "cell_type": "code",
   "execution_count": 17,
   "id": "7df24e0f",
   "metadata": {},
   "outputs": [
    {
     "name": "stdout",
     "output_type": "stream",
     "text": [
      "<class 'str'>\n",
      "<class 'int'>\n",
      "<class 'float'>\n",
      "<class 'complex'>\n",
      "<class 'bool'>\n",
      "<class 'dict'>\n",
      "<class 'tuple'>\n",
      "<class 'list'>\n"
     ]
    }
   ],
   "source": [
    "for i in list1:\n",
    "    print(type(i))"
   ]
  },
  {
   "cell_type": "code",
   "execution_count": 19,
   "id": "3b0b2708",
   "metadata": {},
   "outputs": [
    {
     "data": {
      "text/plain": [
       "8"
      ]
     },
     "execution_count": 19,
     "metadata": {},
     "output_type": "execute_result"
    }
   ],
   "source": [
    "len(list1)"
   ]
  },
  {
   "cell_type": "code",
   "execution_count": 20,
   "id": "ef4a4c9e",
   "metadata": {},
   "outputs": [
    {
     "data": {
      "text/plain": [
       "[[2, 5], (2, 4), {'k': 'one'}, True, (2+6j), 3.0, 2, 'one']"
      ]
     },
     "execution_count": 20,
     "metadata": {},
     "output_type": "execute_result"
    }
   ],
   "source": [
    "list1[::-1]"
   ]
  },
  {
   "cell_type": "code",
   "execution_count": 27,
   "id": "6fd0f245",
   "metadata": {},
   "outputs": [
    {
     "data": {
      "text/plain": [
       "8"
      ]
     },
     "execution_count": 27,
     "metadata": {},
     "output_type": "execute_result"
    }
   ],
   "source": [
    "len(list1)"
   ]
  },
  {
   "cell_type": "code",
   "execution_count": 28,
   "id": "46f3a35b",
   "metadata": {},
   "outputs": [
    {
     "data": {
      "text/plain": [
       "[[2, 5], (2, 4), {'k': 'one'}, True, (2+6j), 3.0, 2, 'one']"
      ]
     },
     "execution_count": 28,
     "metadata": {},
     "output_type": "execute_result"
    }
   ],
   "source": [
    "list1 = [\"one\",2,3.0,2+6j,True,{'k':'one'},(2,4),[2,5]]\n",
    "lst =[]\n",
    "for i in range(len(list1)-1,-1,-1):\n",
    "    lst.append(list1[i])\n",
    "lst"
   ]
  },
  {
   "cell_type": "code",
   "execution_count": 41,
   "id": "d307120d",
   "metadata": {},
   "outputs": [],
   "source": [
    "def find_ow(string):\n",
    "    list1 = ['a','e','i','o','u']\n",
    "    if str(string) in list1:\n",
    "        print(\"The give input {} is a owel: \".format(string))\n",
    "    else:\n",
    "        print(\"The give input {} is a Constraint: \".format(string))"
   ]
  },
  {
   "cell_type": "code",
   "execution_count": 49,
   "id": "b3697ae3",
   "metadata": {},
   "outputs": [
    {
     "name": "stdout",
     "output_type": "stream",
     "text": [
      "The give input a is a owel: \n"
     ]
    }
   ],
   "source": [
    "find_ow(\"a\")"
   ]
  },
  {
   "cell_type": "code",
   "execution_count": 58,
   "id": "ea0b7b9a",
   "metadata": {},
   "outputs": [
    {
     "name": "stdout",
     "output_type": "stream",
     "text": [
      "Inside ELif\n"
     ]
    }
   ],
   "source": [
    "a = 100\n",
    "b  = 200\n",
    "if a == 10 and b == 20:\n",
    "    print(\"This is a valid case\")\n",
    "elif a == 100 or b == 20:\n",
    "    print(\"Inside ELif\")\n",
    "else:\n",
    "    print(\"Falls under else\")"
   ]
  },
  {
   "cell_type": "code",
   "execution_count": 54,
   "id": "05dec6f8",
   "metadata": {},
   "outputs": [
    {
     "name": "stdout",
     "output_type": "stream",
     "text": [
      "True\n",
      "False\n",
      "False\n",
      "False\n"
     ]
    }
   ],
   "source": [
    "print(True and True)\n",
    "print(False and True)\n",
    "print(True and False)\n",
    "print(False and False)"
   ]
  },
  {
   "cell_type": "code",
   "execution_count": 55,
   "id": "926b5b58",
   "metadata": {},
   "outputs": [
    {
     "name": "stdout",
     "output_type": "stream",
     "text": [
      "True\n",
      "True\n",
      "True\n",
      "False\n"
     ]
    }
   ],
   "source": [
    "print(True or True)\n",
    "print(False or True)\n",
    "print(True or False)\n",
    "print(False or False)"
   ]
  },
  {
   "cell_type": "code",
   "execution_count": 64,
   "id": "0eb41008",
   "metadata": {},
   "outputs": [
    {
     "name": "stdout",
     "output_type": "stream",
     "text": [
      "Speed\n",
      "Speed\n",
      "Speed\n",
      "Speed\n",
      "Speed\n"
     ]
    }
   ],
   "source": [
    "initial_speed = 11\n",
    "final_speed = 100\n",
    "count = 1\n",
    "while initial_speed <= final_speed:\n",
    "    print(\"Speed\")\n",
    "    count += 1\n",
    "    if count == 6:\n",
    "        break"
   ]
  },
  {
   "cell_type": "code",
   "execution_count": 65,
   "id": "0ac02c44",
   "metadata": {},
   "outputs": [
    {
     "name": "stdout",
     "output_type": "stream",
     "text": [
      "hello World\n"
     ]
    }
   ],
   "source": [
    "print(\"hello World\")"
   ]
  },
  {
   "cell_type": "code",
   "execution_count": 67,
   "id": "f45938bd",
   "metadata": {},
   "outputs": [],
   "source": [
    "def sumofvalues(a,b):\n",
    "    return a + b\n",
    "    "
   ]
  },
  {
   "cell_type": "code",
   "execution_count": 68,
   "id": "8509429e",
   "metadata": {},
   "outputs": [
    {
     "data": {
      "text/plain": [
       "11"
      ]
     },
     "execution_count": 68,
     "metadata": {},
     "output_type": "execute_result"
    }
   ],
   "source": [
    "sumofvalues(5,6)"
   ]
  },
  {
   "cell_type": "code",
   "execution_count": 69,
   "id": "209b9b2a",
   "metadata": {},
   "outputs": [],
   "source": [
    "def attendance(rolln):\n",
    "    rec = [1,2,3,4,5,6,7,8,9,10]\n",
    "    if rolln in rec:\n",
    "        print(\"The student {} is present today\".format(rolln))\n",
    "    else:\n",
    "        print(\"The student is absent\")"
   ]
  },
  {
   "cell_type": "code",
   "execution_count": 70,
   "id": "03cb1d16",
   "metadata": {},
   "outputs": [
    {
     "name": "stdout",
     "output_type": "stream",
     "text": [
      "The student 5 is present today\n"
     ]
    }
   ],
   "source": [
    "attendance(5)"
   ]
  },
  {
   "cell_type": "code",
   "execution_count": 71,
   "id": "8d730532",
   "metadata": {},
   "outputs": [],
   "source": [
    "def highist(a,b,c):\n",
    "    return max(a,b,c)\n",
    "    "
   ]
  },
  {
   "cell_type": "code",
   "execution_count": 72,
   "id": "1b79cb1a",
   "metadata": {},
   "outputs": [
    {
     "data": {
      "text/plain": [
       "12"
      ]
     },
     "execution_count": 72,
     "metadata": {},
     "output_type": "execute_result"
    }
   ],
   "source": [
    "highist(5,10,12)"
   ]
  },
  {
   "cell_type": "code",
   "execution_count": 79,
   "id": "fe284a6f",
   "metadata": {},
   "outputs": [],
   "source": [
    "def evenorodd():\n",
    "    num = int(input(\"Enter a valid Integer:\"))\n",
    "    if (num%2 == 0):\n",
    "        print(\"This is a even number\", num)\n",
    "    else:\n",
    "        print(\"This is a odd number\", num)"
   ]
  },
  {
   "cell_type": "code",
   "execution_count": 80,
   "id": "a360da3d",
   "metadata": {},
   "outputs": [
    {
     "name": "stdout",
     "output_type": "stream",
     "text": [
      "Enter a valid Integer:55\n",
      "This is a odd number 55\n"
     ]
    }
   ],
   "source": [
    "evenorodd()"
   ]
  },
  {
   "cell_type": "code",
   "execution_count": 83,
   "id": "0c9ff320",
   "metadata": {},
   "outputs": [],
   "source": [
    "def take():\n",
    "    stringvalue = input(\"Plase enter the value\")\n",
    "    return \"This is that data that is entered \" + stringvalue.upper()"
   ]
  },
  {
   "cell_type": "code",
   "execution_count": 84,
   "id": "ca63e4d7",
   "metadata": {},
   "outputs": [
    {
     "name": "stdout",
     "output_type": "stream",
     "text": [
      "Plase enter the valueravishankar\n"
     ]
    },
    {
     "data": {
      "text/plain": [
       "'This is that data that is entered RAVISHANKAR'"
      ]
     },
     "execution_count": 84,
     "metadata": {},
     "output_type": "execute_result"
    }
   ],
   "source": [
    "take()"
   ]
  },
  {
   "cell_type": "code",
   "execution_count": 85,
   "id": "70ec36a7",
   "metadata": {},
   "outputs": [],
   "source": [
    "def countthewords():\n",
    "    input_word = input(\"Please enter the values: \")\n",
    "    ow = ['a','e','i','o','u',]\n",
    "    owllist = []\n",
    "    conslst = []\n",
    "    for i in input_word:\n",
    "        if i in ow:\n",
    "            owllist.append(i)\n",
    "        else:\n",
    "            conslst.append(i)\n",
    "    print(len(owllist))\n",
    "    print(len(conslst))"
   ]
  },
  {
   "cell_type": "code",
   "execution_count": 88,
   "id": "6ff74df8",
   "metadata": {},
   "outputs": [
    {
     "name": "stdout",
     "output_type": "stream",
     "text": [
      "Please enter the values: bharathkumar\n",
      "4\n",
      "8\n"
     ]
    }
   ],
   "source": [
    "countthewords()"
   ]
  },
  {
   "cell_type": "code",
   "execution_count": 91,
   "id": "e21e0da7",
   "metadata": {},
   "outputs": [],
   "source": [
    "class firstclass:\n",
    "    \n",
    "    def __init__(self, name,section,age,salary):\n",
    "        self.name = name\n",
    "        self.section = section\n",
    "        self.age = age\n",
    "        self.salary = salary\n",
    "    "
   ]
  },
  {
   "cell_type": "code",
   "execution_count": 92,
   "id": "39ad974d",
   "metadata": {},
   "outputs": [],
   "source": [
    "obj = firstclass(\"ravi\",\"HR\",25,35000)"
   ]
  },
  {
   "cell_type": "code",
   "execution_count": 93,
   "id": "8a64ade1",
   "metadata": {},
   "outputs": [
    {
     "data": {
      "text/plain": [
       "25"
      ]
     },
     "execution_count": 93,
     "metadata": {},
     "output_type": "execute_result"
    }
   ],
   "source": [
    "obj.age"
   ]
  },
  {
   "cell_type": "code",
   "execution_count": null,
   "id": "f005adcb",
   "metadata": {},
   "outputs": [],
   "source": []
  }
 ],
 "metadata": {
  "kernelspec": {
   "display_name": "Python 3",
   "language": "python",
   "name": "python3"
  },
  "language_info": {
   "codemirror_mode": {
    "name": "ipython",
    "version": 3
   },
   "file_extension": ".py",
   "mimetype": "text/x-python",
   "name": "python",
   "nbconvert_exporter": "python",
   "pygments_lexer": "ipython3",
   "version": "3.8.8"
  }
 },
 "nbformat": 4,
 "nbformat_minor": 5
}
