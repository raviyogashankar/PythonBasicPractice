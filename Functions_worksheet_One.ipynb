{
 "cells": [
  {
   "cell_type": "code",
   "execution_count": 146,
   "id": "2a5fd017",
   "metadata": {},
   "outputs": [
    {
     "data": {
      "text/plain": [
       "30"
      ]
     },
     "execution_count": 146,
     "metadata": {},
     "output_type": "execute_result"
    }
   ],
   "source": [
    "a = 10\n",
    "b = 20\n",
    "a + b\n"
   ]
  },
  {
   "cell_type": "code",
   "execution_count": 137,
   "id": "3fb565f9",
   "metadata": {},
   "outputs": [],
   "source": [
    "def sum_of_variables(a,b):# def - definiton of a function \n",
    "    \"\"\"This functaion gives the sum of two numbers\"\"\"\n",
    "    return a +b"
   ]
  },
  {
   "cell_type": "code",
   "execution_count": 147,
   "id": "01bca211",
   "metadata": {},
   "outputs": [
    {
     "data": {
      "text/plain": [
       "30"
      ]
     },
     "execution_count": 147,
     "metadata": {},
     "output_type": "execute_result"
    }
   ],
   "source": [
    "sum_of_variables(10,20)"
   ]
  },
  {
   "cell_type": "code",
   "execution_count": 148,
   "id": "929abc00",
   "metadata": {},
   "outputs": [],
   "source": [
    "def dam(x,y):\n",
    "    print(\"This is the values of data\", x,y)"
   ]
  },
  {
   "cell_type": "code",
   "execution_count": 149,
   "id": "2603d534",
   "metadata": {},
   "outputs": [
    {
     "name": "stdout",
     "output_type": "stream",
     "text": [
      "This is the values of data 10 20\n"
     ]
    },
    {
     "data": {
      "text/plain": [
       "NoneType"
      ]
     },
     "execution_count": 149,
     "metadata": {},
     "output_type": "execute_result"
    }
   ],
   "source": [
    "type(dam(10,20)) # Print will give you NoneType"
   ]
  },
  {
   "cell_type": "code",
   "execution_count": 150,
   "id": "b72c7083",
   "metadata": {},
   "outputs": [],
   "source": [
    "def mul(x,y):\n",
    "    \"\"\"This functaion gives the product of two numbers\"\"\"\n",
    "    return x*y\n"
   ]
  },
  {
   "cell_type": "code",
   "execution_count": 151,
   "id": "8db193b4",
   "metadata": {},
   "outputs": [
    {
     "data": {
      "text/plain": [
       "int"
      ]
     },
     "execution_count": 151,
     "metadata": {},
     "output_type": "execute_result"
    }
   ],
   "source": [
    "type(mul(5,15)) #return will give you the respective data type"
   ]
  },
  {
   "cell_type": "code",
   "execution_count": 152,
   "id": "921a47e4",
   "metadata": {},
   "outputs": [
    {
     "name": "stdout",
     "output_type": "stream",
     "text": [
      "\n"
     ]
    },
    {
     "data": {
      "text/plain": [
       "NoneType"
      ]
     },
     "execution_count": 152,
     "metadata": {},
     "output_type": "execute_result"
    }
   ],
   "source": [
    "type(print())"
   ]
  },
  {
   "cell_type": "code",
   "execution_count": 153,
   "id": "c95b7629",
   "metadata": {},
   "outputs": [],
   "source": [
    "def test1(a,b,c):\n",
    "    \"\"\"This functaion gives the sum of two numbers with three arguments passed\"\"\"\n",
    "    return a + b"
   ]
  },
  {
   "cell_type": "code",
   "execution_count": 154,
   "id": "7441fea4",
   "metadata": {},
   "outputs": [
    {
     "ename": "TypeError",
     "evalue": "test1() missing 1 required positional argument: 'c'",
     "output_type": "error",
     "traceback": [
      "\u001b[1;31m---------------------------------------------------------------------------\u001b[0m",
      "\u001b[1;31mTypeError\u001b[0m                                 Traceback (most recent call last)",
      "\u001b[1;32m<ipython-input-154-2012a26a6467>\u001b[0m in \u001b[0;36m<module>\u001b[1;34m\u001b[0m\n\u001b[1;32m----> 1\u001b[1;33m \u001b[0mtest1\u001b[0m\u001b[1;33m(\u001b[0m\u001b[1;36m10\u001b[0m\u001b[1;33m,\u001b[0m\u001b[1;36m20\u001b[0m\u001b[1;33m)\u001b[0m \u001b[1;31m# Irrespective of the argumenst used inside the function we are supposed to pass apl the arguments\u001b[0m\u001b[1;33m\u001b[0m\u001b[1;33m\u001b[0m\u001b[0m\n\u001b[0m",
      "\u001b[1;31mTypeError\u001b[0m: test1() missing 1 required positional argument: 'c'"
     ]
    }
   ],
   "source": [
    "test1(10,20) # Irrespective of the argumenst used inside the function we are supposed to pass apl the arguments"
   ]
  },
  {
   "cell_type": "code",
   "execution_count": 155,
   "id": "5a0e071a",
   "metadata": {},
   "outputs": [],
   "source": [
    "def test2(a,b):\n",
    "    return a*1,b*5,a*b"
   ]
  },
  {
   "cell_type": "code",
   "execution_count": 156,
   "id": "7ba71a62",
   "metadata": {},
   "outputs": [
    {
     "data": {
      "text/plain": [
       "(5, 30, 30)"
      ]
     },
     "execution_count": 156,
     "metadata": {},
     "output_type": "execute_result"
    }
   ],
   "source": [
    "test2(5,6)"
   ]
  },
  {
   "cell_type": "code",
   "execution_count": 157,
   "id": "58089410",
   "metadata": {},
   "outputs": [
    {
     "data": {
      "text/plain": [
       "tuple"
      ]
     },
     "execution_count": 157,
     "metadata": {},
     "output_type": "execute_result"
    }
   ],
   "source": [
    "type(test2(3,5)) # multiple returns give as tuple by default "
   ]
  },
  {
   "cell_type": "code",
   "execution_count": 158,
   "id": "2143356f",
   "metadata": {},
   "outputs": [],
   "source": [
    "x,y,z = test2(10,20) # Multiple returns"
   ]
  },
  {
   "cell_type": "code",
   "execution_count": 159,
   "id": "48456206",
   "metadata": {},
   "outputs": [
    {
     "data": {
      "text/plain": [
       "10"
      ]
     },
     "execution_count": 159,
     "metadata": {},
     "output_type": "execute_result"
    }
   ],
   "source": [
    "x"
   ]
  },
  {
   "cell_type": "code",
   "execution_count": 160,
   "id": "64129c13",
   "metadata": {},
   "outputs": [
    {
     "data": {
      "text/plain": [
       "100"
      ]
     },
     "execution_count": 160,
     "metadata": {},
     "output_type": "execute_result"
    }
   ],
   "source": [
    "y\n"
   ]
  },
  {
   "cell_type": "code",
   "execution_count": 161,
   "id": "0f90f2f9",
   "metadata": {},
   "outputs": [
    {
     "data": {
      "text/plain": [
       "200"
      ]
     },
     "execution_count": 161,
     "metadata": {},
     "output_type": "execute_result"
    }
   ],
   "source": [
    "z"
   ]
  },
  {
   "cell_type": "code",
   "execution_count": 162,
   "id": "0fe576df",
   "metadata": {},
   "outputs": [],
   "source": [
    "c,v,_= test2(10,20) #Placeholder holding the value instead of a variable"
   ]
  },
  {
   "cell_type": "code",
   "execution_count": 163,
   "id": "f8525079",
   "metadata": {},
   "outputs": [
    {
     "data": {
      "text/plain": [
       "10"
      ]
     },
     "execution_count": 163,
     "metadata": {},
     "output_type": "execute_result"
    }
   ],
   "source": [
    "c"
   ]
  },
  {
   "cell_type": "code",
   "execution_count": 164,
   "id": "794660a8",
   "metadata": {},
   "outputs": [
    {
     "data": {
      "text/plain": [
       "100"
      ]
     },
     "execution_count": 164,
     "metadata": {},
     "output_type": "execute_result"
    }
   ],
   "source": [
    "v"
   ]
  },
  {
   "cell_type": "code",
   "execution_count": 165,
   "id": "960126e6",
   "metadata": {},
   "outputs": [
    {
     "data": {
      "text/plain": [
       "100"
      ]
     },
     "execution_count": 165,
     "metadata": {},
     "output_type": "execute_result"
    }
   ],
   "source": [
    "_"
   ]
  },
  {
   "cell_type": "code",
   "execution_count": 166,
   "id": "9e5edf5c",
   "metadata": {},
   "outputs": [
    {
     "ename": "TypeError",
     "evalue": "test2() missing 2 required positional arguments: 'a' and 'b'",
     "output_type": "error",
     "traceback": [
      "\u001b[1;31m---------------------------------------------------------------------------\u001b[0m",
      "\u001b[1;31mTypeError\u001b[0m                                 Traceback (most recent call last)",
      "\u001b[1;32m<ipython-input-166-dc68cc5e68a9>\u001b[0m in \u001b[0;36m<module>\u001b[1;34m\u001b[0m\n\u001b[0;32m      1\u001b[0m \u001b[1;31m# Gives error if have multiple returns\u001b[0m\u001b[1;33m\u001b[0m\u001b[1;33m\u001b[0m\u001b[1;33m\u001b[0m\u001b[0m\n\u001b[1;32m----> 2\u001b[1;33m \u001b[0ms\u001b[0m\u001b[1;33m,\u001b[0m\u001b[0md\u001b[0m \u001b[1;33m=\u001b[0m \u001b[0mtest2\u001b[0m\u001b[1;33m(\u001b[0m\u001b[1;33m)\u001b[0m\u001b[1;33m\u001b[0m\u001b[1;33m\u001b[0m\u001b[0m\n\u001b[0m",
      "\u001b[1;31mTypeError\u001b[0m: test2() missing 2 required positional arguments: 'a' and 'b'"
     ]
    }
   ],
   "source": [
    "# Gives error if have multiple returns \n",
    "s,d = test2()"
   ]
  },
  {
   "cell_type": "code",
   "execution_count": 167,
   "id": "20921840",
   "metadata": {},
   "outputs": [],
   "source": [
    "def test3(a,b):\n",
    "    return b\n",
    "    return a"
   ]
  },
  {
   "cell_type": "code",
   "execution_count": 168,
   "id": "301f010d",
   "metadata": {},
   "outputs": [
    {
     "data": {
      "text/plain": [
       "20"
      ]
     },
     "execution_count": 168,
     "metadata": {},
     "output_type": "execute_result"
    }
   ],
   "source": [
    "test3(10,20)"
   ]
  },
  {
   "cell_type": "code",
   "execution_count": 169,
   "id": "7207bb6d",
   "metadata": {},
   "outputs": [],
   "source": [
    "def test4():\n",
    "    return \"This is a string \""
   ]
  },
  {
   "cell_type": "code",
   "execution_count": 170,
   "id": "0ba67fa4",
   "metadata": {},
   "outputs": [
    {
     "data": {
      "text/plain": [
       "'This is a string '"
      ]
     },
     "execution_count": 170,
     "metadata": {},
     "output_type": "execute_result"
    }
   ],
   "source": [
    "test4()"
   ]
  },
  {
   "cell_type": "code",
   "execution_count": 171,
   "id": "07ef364e",
   "metadata": {},
   "outputs": [
    {
     "data": {
      "text/plain": [
       "'This is a string Ravi Shankar'"
      ]
     },
     "execution_count": 171,
     "metadata": {},
     "output_type": "execute_result"
    }
   ],
   "source": [
    "test4()+\"Ravi Shankar\""
   ]
  },
  {
   "cell_type": "code",
   "execution_count": 172,
   "id": "2d11eb46",
   "metadata": {},
   "outputs": [],
   "source": [
    "def test5(i):\n",
    "    return i,i*2"
   ]
  },
  {
   "cell_type": "code",
   "execution_count": 173,
   "id": "ef0579b8",
   "metadata": {},
   "outputs": [
    {
     "data": {
      "text/plain": [
       "(7, 14)"
      ]
     },
     "execution_count": 173,
     "metadata": {},
     "output_type": "execute_result"
    }
   ],
   "source": [
    "test5(7)"
   ]
  },
  {
   "cell_type": "code",
   "execution_count": 174,
   "id": "081f4386",
   "metadata": {},
   "outputs": [
    {
     "data": {
      "text/plain": [
       "([2, 3, 4, 5, 6, 67, 8], [2, 3, 4, 5, 6, 67, 8, 2, 3, 4, 5, 6, 67, 8])"
      ]
     },
     "execution_count": 174,
     "metadata": {},
     "output_type": "execute_result"
    }
   ],
   "source": [
    "test5([2,3,4,5,6,67,8,])"
   ]
  },
  {
   "cell_type": "code",
   "execution_count": 175,
   "id": "749caba3",
   "metadata": {},
   "outputs": [],
   "source": [
    "def test6(m,n = 30): # Asignment pasarameter should be folowed by default parameter \n",
    "    return n+m"
   ]
  },
  {
   "cell_type": "code",
   "execution_count": 176,
   "id": "0c060064",
   "metadata": {},
   "outputs": [
    {
     "data": {
      "text/plain": [
       "60"
      ]
     },
     "execution_count": 176,
     "metadata": {},
     "output_type": "execute_result"
    }
   ],
   "source": [
    "test6(10,50)"
   ]
  },
  {
   "cell_type": "code",
   "execution_count": 177,
   "id": "94dfeb15",
   "metadata": {},
   "outputs": [],
   "source": [
    "def test7(x = True,y=False):\n",
    "    \"\"\"This is a Doc String\"\"\"\n",
    "    return x +y\n",
    "    "
   ]
  },
  {
   "cell_type": "code",
   "execution_count": 178,
   "id": "00dd8283",
   "metadata": {},
   "outputs": [
    {
     "data": {
      "text/plain": [
       "1"
      ]
     },
     "execution_count": 178,
     "metadata": {},
     "output_type": "execute_result"
    }
   ],
   "source": [
    "test7(False,1) #Can override the values while calling"
   ]
  },
  {
   "cell_type": "code",
   "execution_count": 179,
   "id": "5f61b931",
   "metadata": {},
   "outputs": [],
   "source": [
    "def travel(bike = True, car = False):\n",
    "    plan_travel = bike or car\n",
    "    return bike,car,plan_travel"
   ]
  },
  {
   "cell_type": "code",
   "execution_count": 180,
   "id": "29a9110d",
   "metadata": {},
   "outputs": [
    {
     "data": {
      "text/plain": [
       "(True, True, True)"
      ]
     },
     "execution_count": 180,
     "metadata": {},
     "output_type": "execute_result"
    }
   ],
   "source": [
    "travel(True,True)"
   ]
  },
  {
   "cell_type": "code",
   "execution_count": 181,
   "id": "1365be55",
   "metadata": {},
   "outputs": [
    {
     "data": {
      "text/plain": [
       "(True, False, True)"
      ]
     },
     "execution_count": 181,
     "metadata": {},
     "output_type": "execute_result"
    }
   ],
   "source": [
    "travel(True,False)"
   ]
  },
  {
   "cell_type": "code",
   "execution_count": 182,
   "id": "afbc7bf4",
   "metadata": {},
   "outputs": [
    {
     "data": {
      "text/plain": [
       "(False, True, True)"
      ]
     },
     "execution_count": 182,
     "metadata": {},
     "output_type": "execute_result"
    }
   ],
   "source": [
    "travel(False,True)"
   ]
  },
  {
   "cell_type": "code",
   "execution_count": 183,
   "id": "ec65706c",
   "metadata": {},
   "outputs": [
    {
     "data": {
      "text/plain": [
       "(False, False, False)"
      ]
     },
     "execution_count": 183,
     "metadata": {},
     "output_type": "execute_result"
    }
   ],
   "source": [
    "travel(False,False)"
   ]
  },
  {
   "cell_type": "code",
   "execution_count": 184,
   "id": "170c7709",
   "metadata": {},
   "outputs": [],
   "source": [
    "def test8(*args, a = \"Ravi\"):\n",
    "    return args,a\n",
    "    "
   ]
  },
  {
   "cell_type": "code",
   "execution_count": 185,
   "id": "89eb0fd2",
   "metadata": {},
   "outputs": [
    {
     "data": {
      "text/plain": [
       "(('Ravishankar', [10, 20]), 'Ravi')"
      ]
     },
     "execution_count": 185,
     "metadata": {},
     "output_type": "execute_result"
    }
   ],
   "source": [
    "test8(\"Ravishankar\",[10,20])"
   ]
  },
  {
   "cell_type": "code",
   "execution_count": 186,
   "id": "42e5eaac",
   "metadata": {},
   "outputs": [],
   "source": [
    "def test9(*args):\n",
    "    lst = []\n",
    "    for i in args:\n",
    "        lst.append(i)\n",
    "    return lst"
   ]
  },
  {
   "cell_type": "code",
   "execution_count": 187,
   "id": "e8a5a8f8",
   "metadata": {},
   "outputs": [
    {
     "data": {
      "text/plain": [
       "[[10], [20], [30, 40, 50], 'Ravi', 'Shankar']"
      ]
     },
     "execution_count": 187,
     "metadata": {},
     "output_type": "execute_result"
    }
   ],
   "source": [
    "test9([10],[20],[30,40,50],\"Ravi\",\"Shankar\")"
   ]
  },
  {
   "cell_type": "code",
   "execution_count": 188,
   "id": "fbc2d5ec",
   "metadata": {},
   "outputs": [
    {
     "data": {
      "text/plain": [
       "[[10, 20, 30], (20, 30, 40)]"
      ]
     },
     "execution_count": 188,
     "metadata": {},
     "output_type": "execute_result"
    }
   ],
   "source": [
    "test9([10,20,30],(20,30,40))"
   ]
  },
  {
   "cell_type": "code",
   "execution_count": 189,
   "id": "b213cff9",
   "metadata": {},
   "outputs": [],
   "source": [
    "def test10(*args):\n",
    "    return [i for i in args]"
   ]
  },
  {
   "cell_type": "code",
   "execution_count": 190,
   "id": "405899a7",
   "metadata": {},
   "outputs": [
    {
     "data": {
      "text/plain": [
       "[[10, 20], (40, 50)]"
      ]
     },
     "execution_count": 190,
     "metadata": {},
     "output_type": "execute_result"
    }
   ],
   "source": [
    "test10([10,20],(40,50))"
   ]
  },
  {
   "cell_type": "code",
   "execution_count": 191,
   "id": "e5440dc2",
   "metadata": {},
   "outputs": [],
   "source": [
    "def test11(*args):\n",
    "    lst = []\n",
    "    for i in args:\n",
    "        if type(i) == list:\n",
    "            lst.append(i)\n",
    "    return lst"
   ]
  },
  {
   "cell_type": "code",
   "execution_count": 192,
   "id": "0115da97",
   "metadata": {},
   "outputs": [
    {
     "data": {
      "text/plain": [
       "[[20, 30, 40], [11, 22, 33]]"
      ]
     },
     "execution_count": 192,
     "metadata": {},
     "output_type": "execute_result"
    }
   ],
   "source": [
    "test11([20,30,40],(20,30,4),[11,22,33])"
   ]
  },
  {
   "cell_type": "code",
   "execution_count": 193,
   "id": "e8f885ac",
   "metadata": {},
   "outputs": [],
   "source": [
    "def test12(**kwargs):\n",
    "    return kwargs\n",
    "    "
   ]
  },
  {
   "cell_type": "code",
   "execution_count": 194,
   "id": "b8246fa4",
   "metadata": {},
   "outputs": [
    {
     "data": {
      "text/plain": [
       "{'v': 10, 'l': 'Ravi', 'a': [10, 20, 30], 'r': 20}"
      ]
     },
     "execution_count": 194,
     "metadata": {},
     "output_type": "execute_result"
    }
   ],
   "source": [
    "test12(v = 10, l = \"Ravi\", a = [10,20,30],r = 20)"
   ]
  },
  {
   "cell_type": "code",
   "execution_count": 196,
   "id": "ead2556a",
   "metadata": {},
   "outputs": [
    {
     "data": {
      "text/plain": [
       "dict"
      ]
     },
     "execution_count": 196,
     "metadata": {},
     "output_type": "execute_result"
    }
   ],
   "source": [
    "type(test12(a = 10,r = 20))"
   ]
  },
  {
   "cell_type": "code",
   "execution_count": 220,
   "id": "8b28be50",
   "metadata": {},
   "outputs": [],
   "source": [
    "def find_type(sample_list):\n",
    "    type_list = []\n",
    "    type_tuple = []\n",
    "    type_string = []\n",
    "    type_int = []\n",
    "    type_complex = []\n",
    "    type_bool = []\n",
    "\n",
    "    for i in sample_list:\n",
    "        if type(i) == list:\n",
    "            type_list.append(i)\n",
    "        elif type(i) == tuple:\n",
    "            type_tuple.append(i)\n",
    "        elif type(i) == str:\n",
    "            type_string.append(i)\n",
    "        elif type(i) == int:\n",
    "            type_int.append(i)\n",
    "        elif type(i) == complex:\n",
    "            type_complex.append(i)\n",
    "        elif type(i) == bool:\n",
    "            type_bool.append(i)\n",
    "        else:\n",
    "            print(\"Nothing in the List\")\n",
    "    return type_list, type_tuple,type_string,type_int,type_complex,type_bool"
   ]
  },
  {
   "cell_type": "code",
   "execution_count": 221,
   "id": "52ca052b",
   "metadata": {},
   "outputs": [
    {
     "name": "stdout",
     "output_type": "stream",
     "text": [
      "Nothing in the List\n"
     ]
    },
    {
     "data": {
      "text/plain": [
       "([[20, 20], [10, 20]],\n",
       " [(10, 'Shankar')],\n",
       " ['ravi'],\n",
       " [30, 50],\n",
       " [(20+8j)],\n",
       " [True, False])"
      ]
     },
     "execution_count": 221,
     "metadata": {},
     "output_type": "execute_result"
    }
   ],
   "source": [
    "find_type([[20, 20] , 30, \"ravi\" ,25.58, 50,20+8j, [10,20],(10,\"Shankar\"),True,False])"
   ]
  },
  {
   "cell_type": "code",
   "execution_count": 226,
   "id": "ec247b7b",
   "metadata": {},
   "outputs": [],
   "source": [
    "def take_inputs(*args,**kwargs):\n",
    "    one = [ i for i in args if type(i)==list]\n",
    "    two = [ i[1] for i in kwargs.items() if type(i[1])==list]\n",
    "    return one,two"
   ]
  },
  {
   "cell_type": "code",
   "execution_count": 228,
   "id": "600f84ac",
   "metadata": {},
   "outputs": [
    {
     "data": {
      "text/plain": [
       "([[[10, 20], 30]], [[10, 20, 30]])"
      ]
     },
     "execution_count": 228,
     "metadata": {},
     "output_type": "execute_result"
    }
   ],
   "source": [
    "take_inputs([[10,20],30],a = 10,b = 20,c = \"Ravi\",d = 20+9j,e = [10,20,30])"
   ]
  },
  {
   "cell_type": "code",
   "execution_count": 229,
   "id": "eb37210f",
   "metadata": {},
   "outputs": [],
   "source": [
    "def test17(**kwargs):\n",
    "    return kwargs"
   ]
  },
  {
   "cell_type": "code",
   "execution_count": 233,
   "id": "57cb1e38",
   "metadata": {},
   "outputs": [
    {
     "data": {
      "text/plain": [
       "{'a': [10, 30, 40], 'b': 20, 'c': 30, 'd': 'Ravi'}"
      ]
     },
     "execution_count": 233,
     "metadata": {},
     "output_type": "execute_result"
    }
   ],
   "source": [
    "test17(a = [10,30,40],b = 20,c = 30,d = \"Ravi\")"
   ]
  },
  {
   "cell_type": "code",
   "execution_count": 240,
   "id": "3ceadc05",
   "metadata": {},
   "outputs": [
    {
     "data": {
      "text/plain": [
       "<function __main__.<lambda>(x, y, z)>"
      ]
     },
     "execution_count": 240,
     "metadata": {},
     "output_type": "execute_result"
    }
   ],
   "source": [
    "#lambda Function\n",
    "lambda x,y,z: x+y"
   ]
  },
  {
   "cell_type": "code",
   "execution_count": 243,
   "id": "ec642fd7",
   "metadata": {},
   "outputs": [],
   "source": [
    "m = lambda x,y,z: x+y+z"
   ]
  },
  {
   "cell_type": "code",
   "execution_count": 244,
   "id": "a1485f7c",
   "metadata": {},
   "outputs": [
    {
     "data": {
      "text/plain": [
       "6"
      ]
     },
     "execution_count": 244,
     "metadata": {},
     "output_type": "execute_result"
    }
   ],
   "source": [
    "m(1,2,3)"
   ]
  },
  {
   "cell_type": "code",
   "execution_count": 247,
   "id": "9f96996e",
   "metadata": {},
   "outputs": [
    {
     "data": {
      "text/plain": [
       "'Ravi Shankar AI Engineer'"
      ]
     },
     "execution_count": 247,
     "metadata": {},
     "output_type": "execute_result"
    }
   ],
   "source": [
    "m(\"Ravi\",\" Shankar\",\" AI Engineer\")"
   ]
  },
  {
   "cell_type": "code",
   "execution_count": 251,
   "id": "66e5b2e9",
   "metadata": {},
   "outputs": [],
   "source": [
    "c = lambda x: [i+100 for i in x]"
   ]
  },
  {
   "cell_type": "code",
   "execution_count": 252,
   "id": "51469d31",
   "metadata": {},
   "outputs": [
    {
     "data": {
      "text/plain": [
       "[110, 120, 130]"
      ]
     },
     "execution_count": 252,
     "metadata": {},
     "output_type": "execute_result"
    }
   ],
   "source": [
    "c([10,20,30])"
   ]
  },
  {
   "cell_type": "code",
   "execution_count": 257,
   "id": "d0168633",
   "metadata": {},
   "outputs": [],
   "source": [
    "r = 10\n",
    "def test_18(a,b):\n",
    "    r = a/b\n",
    "    return r"
   ]
  },
  {
   "cell_type": "code",
   "execution_count": 258,
   "id": "2c6b12d3",
   "metadata": {},
   "outputs": [
    {
     "data": {
      "text/plain": [
       "10.0"
      ]
     },
     "execution_count": 258,
     "metadata": {},
     "output_type": "execute_result"
    }
   ],
   "source": [
    "test_18(100,10)"
   ]
  },
  {
   "cell_type": "code",
   "execution_count": 269,
   "id": "89c46cda",
   "metadata": {},
   "outputs": [],
   "source": [
    "def writedocstring():\n",
    "    \"\"\"\n",
    "    This is a Doc String where the details of the function is available\n",
    "    \"\"\"\n",
    "    pass"
   ]
  },
  {
   "cell_type": "code",
   "execution_count": 270,
   "id": "782bab2a",
   "metadata": {},
   "outputs": [],
   "source": [
    "writedocstring()"
   ]
  },
  {
   "cell_type": "code",
   "execution_count": 271,
   "id": "5fdf5318",
   "metadata": {},
   "outputs": [
    {
     "name": "stdout",
     "output_type": "stream",
     "text": [
      "\n",
      "    This is a Doc String where the details of the function is available\n",
      "    \n"
     ]
    }
   ],
   "source": [
    "print(writedocstring.__doc__)"
   ]
  },
  {
   "cell_type": "code",
   "execution_count": 273,
   "id": "8242cd8c",
   "metadata": {},
   "outputs": [
    {
     "name": "stdout",
     "output_type": "stream",
     "text": [
      "Help on function writedocstring in module __main__:\n",
      "\n",
      "writedocstring()\n",
      "    This is a Doc String where the details of the function is available\n",
      "\n"
     ]
    }
   ],
   "source": [
    "help(writedocstring)"
   ]
  },
  {
   "cell_type": "code",
   "execution_count": null,
   "id": "5c63b91f",
   "metadata": {},
   "outputs": [],
   "source": []
  }
 ],
 "metadata": {
  "kernelspec": {
   "display_name": "Python 3",
   "language": "python",
   "name": "python3"
  },
  "language_info": {
   "codemirror_mode": {
    "name": "ipython",
    "version": 3
   },
   "file_extension": ".py",
   "mimetype": "text/x-python",
   "name": "python",
   "nbconvert_exporter": "python",
   "pygments_lexer": "ipython3",
   "version": "3.8.8"
  }
 },
 "nbformat": 4,
 "nbformat_minor": 5
}
