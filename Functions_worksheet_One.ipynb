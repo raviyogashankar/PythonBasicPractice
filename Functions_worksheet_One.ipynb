{
 "cells": [
  {
   "cell_type": "code",
   "execution_count": 1,
   "id": "2a5fd017",
   "metadata": {},
   "outputs": [
    {
     "data": {
      "text/plain": [
       "30"
      ]
     },
     "execution_count": 1,
     "metadata": {},
     "output_type": "execute_result"
    }
   ],
   "source": [
    "a = 10\n",
    "b = 20\n",
    "a + b\n"
   ]
  },
  {
   "cell_type": "code",
   "execution_count": 2,
   "id": "3fb565f9",
   "metadata": {},
   "outputs": [],
   "source": [
    "def sum_of_variables(a,b): # def - definiton of a function \n",
    "    return a +b"
   ]
  },
  {
   "cell_type": "code",
   "execution_count": 3,
   "id": "01bca211",
   "metadata": {},
   "outputs": [
    {
     "data": {
      "text/plain": [
       "30"
      ]
     },
     "execution_count": 3,
     "metadata": {},
     "output_type": "execute_result"
    }
   ],
   "source": [
    "sum_of_variables(10,20)"
   ]
  },
  {
   "cell_type": "code",
   "execution_count": 11,
   "id": "929abc00",
   "metadata": {},
   "outputs": [],
   "source": [
    "def dam(x,y):\n",
    "    print(\"This is the values of data\", x,y)"
   ]
  },
  {
   "cell_type": "code",
   "execution_count": 32,
   "id": "2603d534",
   "metadata": {},
   "outputs": [
    {
     "name": "stdout",
     "output_type": "stream",
     "text": [
      "This is the values of data 10 20\n"
     ]
    },
    {
     "data": {
      "text/plain": [
       "NoneType"
      ]
     },
     "execution_count": 32,
     "metadata": {},
     "output_type": "execute_result"
    }
   ],
   "source": [
    "type(dam(10,20)) # Print will give you NoneType"
   ]
  },
  {
   "cell_type": "code",
   "execution_count": 27,
   "id": "b72c7083",
   "metadata": {},
   "outputs": [],
   "source": [
    "def mul(x,y):\n",
    "    return x*y\n"
   ]
  },
  {
   "cell_type": "code",
   "execution_count": 34,
   "id": "8db193b4",
   "metadata": {},
   "outputs": [
    {
     "data": {
      "text/plain": [
       "int"
      ]
     },
     "execution_count": 34,
     "metadata": {},
     "output_type": "execute_result"
    }
   ],
   "source": [
    "type(mul(5,15)) #return will give you the respective data type"
   ]
  },
  {
   "cell_type": "code",
   "execution_count": 38,
   "id": "921a47e4",
   "metadata": {},
   "outputs": [
    {
     "name": "stdout",
     "output_type": "stream",
     "text": [
      "\n"
     ]
    },
    {
     "data": {
      "text/plain": [
       "NoneType"
      ]
     },
     "execution_count": 38,
     "metadata": {},
     "output_type": "execute_result"
    }
   ],
   "source": [
    "type(print())"
   ]
  },
  {
   "cell_type": "code",
   "execution_count": 39,
   "id": "c95b7629",
   "metadata": {},
   "outputs": [],
   "source": [
    "def test1(a,b,c):\n",
    "    return a + b"
   ]
  },
  {
   "cell_type": "code",
   "execution_count": 43,
   "id": "7441fea4",
   "metadata": {},
   "outputs": [
    {
     "ename": "TypeError",
     "evalue": "test1() missing 1 required positional argument: 'c'",
     "output_type": "error",
     "traceback": [
      "\u001b[1;31m---------------------------------------------------------------------------\u001b[0m",
      "\u001b[1;31mTypeError\u001b[0m                                 Traceback (most recent call last)",
      "\u001b[1;32m<ipython-input-43-2012a26a6467>\u001b[0m in \u001b[0;36m<module>\u001b[1;34m\u001b[0m\n\u001b[1;32m----> 1\u001b[1;33m \u001b[0mtest1\u001b[0m\u001b[1;33m(\u001b[0m\u001b[1;36m10\u001b[0m\u001b[1;33m,\u001b[0m\u001b[1;36m20\u001b[0m\u001b[1;33m)\u001b[0m \u001b[1;31m# Irrespective of the argumenst used inside the function we are supposed to pass apl the arguments\u001b[0m\u001b[1;33m\u001b[0m\u001b[1;33m\u001b[0m\u001b[0m\n\u001b[0m",
      "\u001b[1;31mTypeError\u001b[0m: test1() missing 1 required positional argument: 'c'"
     ]
    }
   ],
   "source": [
    "test1(10,20) # Irrespective of the argumenst used inside the function we are supposed to pass apl the arguments"
   ]
  },
  {
   "cell_type": "code",
   "execution_count": 44,
   "id": "5a0e071a",
   "metadata": {},
   "outputs": [],
   "source": [
    "def test2(a,b):\n",
    "    return a*1,b*5,a*b"
   ]
  },
  {
   "cell_type": "code",
   "execution_count": 48,
   "id": "7ba71a62",
   "metadata": {},
   "outputs": [
    {
     "data": {
      "text/plain": [
       "(5, 30, 30)"
      ]
     },
     "execution_count": 48,
     "metadata": {},
     "output_type": "execute_result"
    }
   ],
   "source": [
    "test2(5,6)"
   ]
  },
  {
   "cell_type": "code",
   "execution_count": 49,
   "id": "58089410",
   "metadata": {},
   "outputs": [
    {
     "data": {
      "text/plain": [
       "tuple"
      ]
     },
     "execution_count": 49,
     "metadata": {},
     "output_type": "execute_result"
    }
   ],
   "source": [
    "type(test2(3,5)) # multiple returns give as tuple by default "
   ]
  },
  {
   "cell_type": "code",
   "execution_count": 50,
   "id": "2143356f",
   "metadata": {},
   "outputs": [],
   "source": [
    "x,y,z = test2(10,20) # Multiple returns"
   ]
  },
  {
   "cell_type": "code",
   "execution_count": 51,
   "id": "48456206",
   "metadata": {},
   "outputs": [
    {
     "data": {
      "text/plain": [
       "10"
      ]
     },
     "execution_count": 51,
     "metadata": {},
     "output_type": "execute_result"
    }
   ],
   "source": [
    "x"
   ]
  },
  {
   "cell_type": "code",
   "execution_count": 52,
   "id": "64129c13",
   "metadata": {},
   "outputs": [
    {
     "data": {
      "text/plain": [
       "100"
      ]
     },
     "execution_count": 52,
     "metadata": {},
     "output_type": "execute_result"
    }
   ],
   "source": [
    "y\n"
   ]
  },
  {
   "cell_type": "code",
   "execution_count": 53,
   "id": "0f90f2f9",
   "metadata": {},
   "outputs": [
    {
     "data": {
      "text/plain": [
       "200"
      ]
     },
     "execution_count": 53,
     "metadata": {},
     "output_type": "execute_result"
    }
   ],
   "source": [
    "z"
   ]
  },
  {
   "cell_type": "code",
   "execution_count": 54,
   "id": "0fe576df",
   "metadata": {},
   "outputs": [],
   "source": [
    "c,v,_= test2(10,20) #Placeholder holding the value instead of a variable"
   ]
  },
  {
   "cell_type": "code",
   "execution_count": 60,
   "id": "f8525079",
   "metadata": {},
   "outputs": [
    {
     "data": {
      "text/plain": [
       "10"
      ]
     },
     "execution_count": 60,
     "metadata": {},
     "output_type": "execute_result"
    }
   ],
   "source": [
    "c"
   ]
  },
  {
   "cell_type": "code",
   "execution_count": 61,
   "id": "794660a8",
   "metadata": {},
   "outputs": [
    {
     "data": {
      "text/plain": [
       "100"
      ]
     },
     "execution_count": 61,
     "metadata": {},
     "output_type": "execute_result"
    }
   ],
   "source": [
    "v"
   ]
  },
  {
   "cell_type": "code",
   "execution_count": 62,
   "id": "960126e6",
   "metadata": {},
   "outputs": [
    {
     "data": {
      "text/plain": [
       "100"
      ]
     },
     "execution_count": 62,
     "metadata": {},
     "output_type": "execute_result"
    }
   ],
   "source": [
    "_"
   ]
  },
  {
   "cell_type": "code",
   "execution_count": 63,
   "id": "9e5edf5c",
   "metadata": {},
   "outputs": [
    {
     "ename": "TypeError",
     "evalue": "test2() missing 2 required positional arguments: 'a' and 'b'",
     "output_type": "error",
     "traceback": [
      "\u001b[1;31m---------------------------------------------------------------------------\u001b[0m",
      "\u001b[1;31mTypeError\u001b[0m                                 Traceback (most recent call last)",
      "\u001b[1;32m<ipython-input-63-dc68cc5e68a9>\u001b[0m in \u001b[0;36m<module>\u001b[1;34m\u001b[0m\n\u001b[0;32m      1\u001b[0m \u001b[1;31m# Gives error if have multiple returns\u001b[0m\u001b[1;33m\u001b[0m\u001b[1;33m\u001b[0m\u001b[1;33m\u001b[0m\u001b[0m\n\u001b[1;32m----> 2\u001b[1;33m \u001b[0ms\u001b[0m\u001b[1;33m,\u001b[0m\u001b[0md\u001b[0m \u001b[1;33m=\u001b[0m \u001b[0mtest2\u001b[0m\u001b[1;33m(\u001b[0m\u001b[1;33m)\u001b[0m\u001b[1;33m\u001b[0m\u001b[1;33m\u001b[0m\u001b[0m\n\u001b[0m",
      "\u001b[1;31mTypeError\u001b[0m: test2() missing 2 required positional arguments: 'a' and 'b'"
     ]
    }
   ],
   "source": [
    "# Gives error if have multiple returns \n",
    "s,d = test2()"
   ]
  },
  {
   "cell_type": "code",
   "execution_count": 65,
   "id": "20921840",
   "metadata": {},
   "outputs": [],
   "source": [
    "def test3(a,b):\n",
    "    return b\n",
    "    return a"
   ]
  },
  {
   "cell_type": "code",
   "execution_count": 66,
   "id": "301f010d",
   "metadata": {},
   "outputs": [
    {
     "data": {
      "text/plain": [
       "20"
      ]
     },
     "execution_count": 66,
     "metadata": {},
     "output_type": "execute_result"
    }
   ],
   "source": [
    "test3(10,20)"
   ]
  },
  {
   "cell_type": "code",
   "execution_count": 67,
   "id": "7207bb6d",
   "metadata": {},
   "outputs": [],
   "source": [
    "def test4():\n",
    "    return \"This is a string \""
   ]
  },
  {
   "cell_type": "code",
   "execution_count": 68,
   "id": "0ba67fa4",
   "metadata": {},
   "outputs": [
    {
     "data": {
      "text/plain": [
       "'This is a string '"
      ]
     },
     "execution_count": 68,
     "metadata": {},
     "output_type": "execute_result"
    }
   ],
   "source": [
    "test4()"
   ]
  },
  {
   "cell_type": "code",
   "execution_count": 69,
   "id": "07ef364e",
   "metadata": {},
   "outputs": [
    {
     "data": {
      "text/plain": [
       "'This is a string Ravi Shankar'"
      ]
     },
     "execution_count": 69,
     "metadata": {},
     "output_type": "execute_result"
    }
   ],
   "source": [
    "test4()+\"Ravi Shankar\""
   ]
  },
  {
   "cell_type": "code",
   "execution_count": 76,
   "id": "2d11eb46",
   "metadata": {},
   "outputs": [],
   "source": [
    "def test5(i):\n",
    "    return i,i*2"
   ]
  },
  {
   "cell_type": "code",
   "execution_count": 77,
   "id": "ef0579b8",
   "metadata": {},
   "outputs": [
    {
     "data": {
      "text/plain": [
       "(7, 14)"
      ]
     },
     "execution_count": 77,
     "metadata": {},
     "output_type": "execute_result"
    }
   ],
   "source": [
    "test5(7)"
   ]
  },
  {
   "cell_type": "code",
   "execution_count": 78,
   "id": "081f4386",
   "metadata": {},
   "outputs": [
    {
     "data": {
      "text/plain": [
       "([2, 3, 4, 5, 6, 67, 8], [2, 3, 4, 5, 6, 67, 8, 2, 3, 4, 5, 6, 67, 8])"
      ]
     },
     "execution_count": 78,
     "metadata": {},
     "output_type": "execute_result"
    }
   ],
   "source": [
    "test5([2,3,4,5,6,67,8,])"
   ]
  },
  {
   "cell_type": "code",
   "execution_count": 85,
   "id": "749caba3",
   "metadata": {},
   "outputs": [],
   "source": [
    "def test6(m,n = 30): # Asignment pasarameter should be folowed by default parameter \n",
    "    return n+m"
   ]
  },
  {
   "cell_type": "code",
   "execution_count": 86,
   "id": "0c060064",
   "metadata": {},
   "outputs": [
    {
     "data": {
      "text/plain": [
       "60"
      ]
     },
     "execution_count": 86,
     "metadata": {},
     "output_type": "execute_result"
    }
   ],
   "source": [
    "test6(10,50)"
   ]
  },
  {
   "cell_type": "code",
   "execution_count": 94,
   "id": "94dfeb15",
   "metadata": {},
   "outputs": [],
   "source": [
    "def test7(x = True,y=False):\n",
    "    \"\"\"This is a Doc String\"\"\"\n",
    "    return x +y\n",
    "    "
   ]
  },
  {
   "cell_type": "code",
   "execution_count": 95,
   "id": "00dd8283",
   "metadata": {},
   "outputs": [
    {
     "data": {
      "text/plain": [
       "1"
      ]
     },
     "execution_count": 95,
     "metadata": {},
     "output_type": "execute_result"
    }
   ],
   "source": [
    "test7(False,1) #Can override the values while calling"
   ]
  },
  {
   "cell_type": "code",
   "execution_count": 98,
   "id": "5f61b931",
   "metadata": {},
   "outputs": [],
   "source": [
    "def travel(bike = True, car = False):\n",
    "    plan_travel = bike or car\n",
    "    return bike,car,plan_travel"
   ]
  },
  {
   "cell_type": "code",
   "execution_count": 102,
   "id": "29a9110d",
   "metadata": {},
   "outputs": [
    {
     "data": {
      "text/plain": [
       "(True, True, True)"
      ]
     },
     "execution_count": 102,
     "metadata": {},
     "output_type": "execute_result"
    }
   ],
   "source": [
    "travel(True,True)"
   ]
  },
  {
   "cell_type": "code",
   "execution_count": 103,
   "id": "1365be55",
   "metadata": {},
   "outputs": [
    {
     "data": {
      "text/plain": [
       "(True, False, True)"
      ]
     },
     "execution_count": 103,
     "metadata": {},
     "output_type": "execute_result"
    }
   ],
   "source": [
    "travel(True,False)"
   ]
  },
  {
   "cell_type": "code",
   "execution_count": 104,
   "id": "afbc7bf4",
   "metadata": {},
   "outputs": [
    {
     "data": {
      "text/plain": [
       "(False, True, True)"
      ]
     },
     "execution_count": 104,
     "metadata": {},
     "output_type": "execute_result"
    }
   ],
   "source": [
    "travel(False,True)"
   ]
  },
  {
   "cell_type": "code",
   "execution_count": 105,
   "id": "ec65706c",
   "metadata": {},
   "outputs": [
    {
     "data": {
      "text/plain": [
       "(False, False, False)"
      ]
     },
     "execution_count": 105,
     "metadata": {},
     "output_type": "execute_result"
    }
   ],
   "source": [
    "travel(False,False)"
   ]
  },
  {
   "cell_type": "code",
   "execution_count": 108,
   "id": "170c7709",
   "metadata": {},
   "outputs": [],
   "source": [
    "def test8(*args, a = \"Ravi\"):\n",
    "    return args,a\n",
    "    "
   ]
  },
  {
   "cell_type": "code",
   "execution_count": 109,
   "id": "89eb0fd2",
   "metadata": {},
   "outputs": [
    {
     "data": {
      "text/plain": [
       "(('Ravishankar', [10, 20]), 'Ravi')"
      ]
     },
     "execution_count": 109,
     "metadata": {},
     "output_type": "execute_result"
    }
   ],
   "source": [
    "test8(\"Ravishankar\",[10,20])"
   ]
  },
  {
   "cell_type": "code",
   "execution_count": 110,
   "id": "42e5eaac",
   "metadata": {},
   "outputs": [],
   "source": [
    "def test9(*args):\n",
    "    lst = []\n",
    "    for i in args:\n",
    "        lst.append(i)\n",
    "    return lst"
   ]
  },
  {
   "cell_type": "code",
   "execution_count": 112,
   "id": "e8a5a8f8",
   "metadata": {},
   "outputs": [
    {
     "data": {
      "text/plain": [
       "[[10], [20], [30, 40, 50], 'Ravi', 'Shankar']"
      ]
     },
     "execution_count": 112,
     "metadata": {},
     "output_type": "execute_result"
    }
   ],
   "source": [
    "test9([10],[20],[30,40,50],\"Ravi\",\"Shankar\")"
   ]
  },
  {
   "cell_type": "code",
   "execution_count": 113,
   "id": "fbc2d5ec",
   "metadata": {},
   "outputs": [
    {
     "data": {
      "text/plain": [
       "[[10, 20, 30], (20, 30, 40)]"
      ]
     },
     "execution_count": 113,
     "metadata": {},
     "output_type": "execute_result"
    }
   ],
   "source": [
    "test9([10,20,30],(20,30,40))"
   ]
  },
  {
   "cell_type": "code",
   "execution_count": 121,
   "id": "b213cff9",
   "metadata": {},
   "outputs": [],
   "source": [
    "def test10(*args):\n",
    "    return [i for i in args]"
   ]
  },
  {
   "cell_type": "code",
   "execution_count": 122,
   "id": "405899a7",
   "metadata": {},
   "outputs": [
    {
     "data": {
      "text/plain": [
       "[[10, 20], (40, 50)]"
      ]
     },
     "execution_count": 122,
     "metadata": {},
     "output_type": "execute_result"
    }
   ],
   "source": [
    "test10([10,20],(40,50))"
   ]
  },
  {
   "cell_type": "code",
   "execution_count": 125,
   "id": "e5440dc2",
   "metadata": {},
   "outputs": [],
   "source": [
    "def test11(*args):\n",
    "    lst = []\n",
    "    for i in args:\n",
    "        if type(i) == list:\n",
    "            lst.append(i)\n",
    "    return lst"
   ]
  },
  {
   "cell_type": "code",
   "execution_count": 128,
   "id": "0115da97",
   "metadata": {},
   "outputs": [
    {
     "data": {
      "text/plain": [
       "[[20, 30, 40], [11, 22, 33]]"
      ]
     },
     "execution_count": 128,
     "metadata": {},
     "output_type": "execute_result"
    }
   ],
   "source": [
    "test11([20,30,40],(20,30,4),[11,22,33])"
   ]
  },
  {
   "cell_type": "code",
   "execution_count": 129,
   "id": "e8f885ac",
   "metadata": {},
   "outputs": [],
   "source": [
    "def test12(**kwargs):\n",
    "    return kwargs\n",
    "    "
   ]
  },
  {
   "cell_type": "code",
   "execution_count": 135,
   "id": "b8246fa4",
   "metadata": {},
   "outputs": [
    {
     "data": {
      "text/plain": [
       "{'v': 10, 'l': 'Ravi', 'a': [10, 20, 30], 'r': 20}"
      ]
     },
     "execution_count": 135,
     "metadata": {},
     "output_type": "execute_result"
    }
   ],
   "source": [
    "test12(v = 10, l = \"Ravi\", a = [10,20,30],r = 20)"
   ]
  },
  {
   "cell_type": "code",
   "execution_count": 136,
   "id": "ead2556a",
   "metadata": {},
   "outputs": [
    {
     "data": {
      "text/plain": [
       "dict"
      ]
     },
     "execution_count": 136,
     "metadata": {},
     "output_type": "execute_result"
    }
   ],
   "source": [
    "type(test12(a = 10,r = 20))"
   ]
  },
  {
   "cell_type": "code",
   "execution_count": null,
   "id": "ed5dc855",
   "metadata": {},
   "outputs": [],
   "source": []
  }
 ],
 "metadata": {
  "kernelspec": {
   "display_name": "Python 3",
   "language": "python",
   "name": "python3"
  },
  "language_info": {
   "codemirror_mode": {
    "name": "ipython",
    "version": 3
   },
   "file_extension": ".py",
   "mimetype": "text/x-python",
   "name": "python",
   "nbconvert_exporter": "python",
   "pygments_lexer": "ipython3",
   "version": "3.8.8"
  }
 },
 "nbformat": 4,
 "nbformat_minor": 5
}
